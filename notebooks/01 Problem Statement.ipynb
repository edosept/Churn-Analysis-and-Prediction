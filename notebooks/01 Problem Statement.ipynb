{
 "cells": [
  {
   "cell_type": "markdown",
   "metadata": {},
   "source": [
    "# Churn Prediction\n",
    "Customer churn mengacu pada hilangnya klien atau pelanggan yang sudah ada. Dari analysis ini, kita bisa mengidentifikasi user yang cenderung akan berhenti menggunakan aplikasi ecommerce dan meninggalkan perusahaan."
   ]
  },
  {
   "cell_type": "markdown",
   "metadata": {},
   "source": [
    "# who are having problems?"
   ]
  },
  {
   "cell_type": "markdown",
   "metadata": {},
   "source": [
    "Ecommerce \"ijo\""
   ]
  },
  {
   "cell_type": "markdown",
   "metadata": {},
   "source": [
    "# whats the problem?"
   ]
  },
  {
   "cell_type": "markdown",
   "metadata": {},
   "source": [
    "### Define Problem"
   ]
  },
  {
   "cell_type": "markdown",
   "metadata": {},
   "source": [
    "Identifikasi pengguna berhenti menggunakan ecommerce 'ijo' ditandai dengan tidak adanya transaksi dalam kurun waktu tertentu, atau akun tersebut tidur (dormant account)."
   ]
  },
  {
   "cell_type": "markdown",
   "metadata": {},
   "source": [
    "1. Salah satu dampak dari persaingan di dunia ecommerce adalah churn, sebuah kondisi dimana user berpindah dari satu ecommerce ke ecommerce yang lain.\n",
    "2. Semakin tinggi churn rate, semakin kecil revenue yang akan perusahaan raih di masa mendatang.\n",
    "3. Biaya untuk memperoleh user baru cukup besar, namun jauh lebih besar biaya kehilangan user karena kita kehilangan bisnis sama sekali, ditambah lagi user yang kecewa akan bercerita kepada banyak orang yang memengaruhi orang lain untuk tidak menggunakan layanan dari perusahaan kita."
   ]
  },
  {
   "cell_type": "markdown",
   "metadata": {},
   "source": [
    "### Objective\n",
    "Apakah ada Faktor penting yang paling berpotensi membuat customer menjadi churn."
   ]
  },
  {
   "cell_type": "markdown",
   "metadata": {},
   "source": [
    "# why the problem is important to solve?"
   ]
  },
  {
   "cell_type": "markdown",
   "metadata": {},
   "source": [
    "Mengapa itu penting?<br>\n",
    "Bisnis sering kali harus berinvestasi dalam jumlah besar untuk menarik user baru, jadi setiap kali user keluar, itu berarti kerugian investasi yang signifikan. Mampu memprediksi kapan user kemungkinan akan pergi dan menawarkan mereka program yang sesuai untuk tetap tinggal di aplikasi kita itu merupakan penghematan besar bagi bisnis."
   ]
  },
  {
   "cell_type": "markdown",
   "metadata": {},
   "source": [
    "# what is the goal/target of solving the problem?"
   ]
  },
  {
   "cell_type": "markdown",
   "metadata": {},
   "source": [
    "### Goals"
   ]
  },
  {
   "cell_type": "markdown",
   "metadata": {},
   "source": [
    "1. Tujuan utamanya adalah untuk memperluas cakupan user dan mendapatkan lebih banyak loyalitas user\n",
    "2. Serta untuk berhasil di pasar ini terletak pada user itu sendiri, maka kita harus berusaha untuk memuaskan setiap user dengan karakteristiknya masing-masing, serta menurunkan resiko churn untuk user lainnya di waktu yang akan datang."
   ]
  },
  {
   "cell_type": "markdown",
   "metadata": {},
   "source": [
    "### Conclusion"
   ]
  },
  {
   "cell_type": "markdown",
   "metadata": {},
   "source": [
    "Ketika kita mendapatkan lebih banyak loyalitas user maka revenue dari perusahaan akan meningkat."
   ]
  },
  {
   "cell_type": "code",
   "execution_count": null,
   "metadata": {},
   "outputs": [],
   "source": []
  }
 ],
 "metadata": {
  "kernelspec": {
   "display_name": "Python [conda env:purwadhika_anaconda]",
   "language": "python",
   "name": "conda-env-purwadhika_anaconda-py"
  },
  "language_info": {
   "codemirror_mode": {
    "name": "ipython",
    "version": 3
   },
   "file_extension": ".py",
   "mimetype": "text/x-python",
   "name": "python",
   "nbconvert_exporter": "python",
   "pygments_lexer": "ipython3",
   "version": "3.9.4"
  }
 },
 "nbformat": 4,
 "nbformat_minor": 2
}
