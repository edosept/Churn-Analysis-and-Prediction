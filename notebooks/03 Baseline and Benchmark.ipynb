{
 "cells": [
  {
   "cell_type": "code",
   "execution_count": 1,
   "metadata": {
    "ExecuteTime": {
     "end_time": "2021-10-02T06:42:00.912143Z",
     "start_time": "2021-10-02T06:41:35.617216Z"
    }
   },
   "outputs": [],
   "source": [
    "import numpy as np\n",
    "import pandas as pd\n",
    "\n",
    "from sklearn.model_selection import train_test_split, GridSearchCV\n",
    "from sklearn.pipeline import Pipeline\n",
    "from sklearn.compose import ColumnTransformer\n",
    "from sklearn.neighbors import KNeighborsClassifier\n",
    "from sklearn.impute import SimpleImputer\n",
    "from sklearn.preprocessing import OneHotEncoder, MinMaxScaler"
   ]
  },
  {
   "cell_type": "markdown",
   "metadata": {},
   "source": [
    "# Baseline"
   ]
  },
  {
   "cell_type": "markdown",
   "metadata": {},
   "source": [
    "### Random Guessing"
   ]
  },
  {
   "cell_type": "code",
   "execution_count": 2,
   "metadata": {
    "ExecuteTime": {
     "end_time": "2021-10-02T06:43:39.589371Z",
     "start_time": "2021-10-02T06:43:39.093698Z"
    }
   },
   "outputs": [
    {
     "data": {
      "text/plain": [
       "((4504, 18), (1126, 18), (4504,), (1126,))"
      ]
     },
     "execution_count": 2,
     "metadata": {},
     "output_type": "execute_result"
    }
   ],
   "source": [
    "df = pd.read_csv(\"data/ECommerceDataset.csv\", index_col=\"CustomerID\")\n",
    "\n",
    "X = df.drop(columns=['Churn'])\n",
    "y = df.Churn\n",
    "\n",
    "X_train, X_test, y_train, y_test = train_test_split(X, y, test_size=0.2, stratify=y, random_state=42)\n",
    "X_train.shape, X_test.shape, y_train.shape, y_test.shape"
   ]
  },
  {
   "cell_type": "code",
   "execution_count": 3,
   "metadata": {
    "ExecuteTime": {
     "end_time": "2021-10-02T06:46:23.032541Z",
     "start_time": "2021-10-02T06:46:23.026557Z"
    }
   },
   "outputs": [],
   "source": [
    "from sklearn.metrics import accuracy_score"
   ]
  },
  {
   "cell_type": "code",
   "execution_count": 4,
   "metadata": {
    "ExecuteTime": {
     "end_time": "2021-10-02T06:46:25.761243Z",
     "start_time": "2021-10-02T06:46:25.689436Z"
    }
   },
   "outputs": [
    {
     "name": "stdout",
     "output_type": "stream",
     "text": [
      "0.4928952042628774 0.4955595026642984\n"
     ]
    }
   ],
   "source": [
    "random_pred_train = np.random.choice([0, 1], size=len(y_train)) \n",
    "random_pred_test = np.random.choice([0, 1], size=len(y_test))\n",
    "\n",
    "train_acc = accuracy_score(y_train, random_pred_train)\n",
    "test_acc = accuracy_score(y_test, random_pred_test)\n",
    "print(train_acc, test_acc)"
   ]
  },
  {
   "cell_type": "markdown",
   "metadata": {},
   "source": [
    "### Threshold"
   ]
  },
  {
   "cell_type": "code",
   "execution_count": 5,
   "metadata": {
    "ExecuteTime": {
     "end_time": "2021-10-02T06:46:31.424101Z",
     "start_time": "2021-10-02T06:46:31.393181Z"
    }
   },
   "outputs": [
    {
     "data": {
      "text/plain": [
       "0    4026\n",
       "1    1604\n",
       "Name: Complain, dtype: int64"
      ]
     },
     "execution_count": 5,
     "metadata": {},
     "output_type": "execute_result"
    }
   ],
   "source": [
    "df.Complain.value_counts()"
   ]
  },
  {
   "cell_type": "markdown",
   "metadata": {},
   "source": [
    "asumsi awal, semua yang complain itu akan churn dan semua yang tidak complain, tidak akan churn<br>\n",
    "1 : complain<br>\n",
    "0 : no complain"
   ]
  },
  {
   "cell_type": "code",
   "execution_count": 6,
   "metadata": {
    "ExecuteTime": {
     "end_time": "2021-10-02T06:46:36.468610Z",
     "start_time": "2021-10-02T06:46:36.387824Z"
    }
   },
   "outputs": [
    {
     "name": "stdout",
     "output_type": "stream",
     "text": [
      "0.7291296625222025 0.7193605683836589\n"
     ]
    }
   ],
   "source": [
    "pred_train = X_train.Complain.map({0: 0, 1: 1})\n",
    "pred_test = X_test.Complain.map({0: 0, 1: 1})\n",
    "\n",
    "train_acc = accuracy_score(y_train, pred_train)\n",
    "test_acc = accuracy_score(y_test, pred_test)\n",
    "print(train_acc, test_acc)"
   ]
  },
  {
   "cell_type": "markdown",
   "metadata": {},
   "source": [
    "# Benchmark"
   ]
  },
  {
   "cell_type": "code",
   "execution_count": 7,
   "metadata": {
    "ExecuteTime": {
     "end_time": "2021-10-02T06:46:40.399097Z",
     "start_time": "2021-10-02T06:46:40.108874Z"
    }
   },
   "outputs": [
    {
     "data": {
      "text/html": [
       "<div>\n",
       "<style scoped>\n",
       "    .dataframe tbody tr th:only-of-type {\n",
       "        vertical-align: middle;\n",
       "    }\n",
       "\n",
       "    .dataframe tbody tr th {\n",
       "        vertical-align: top;\n",
       "    }\n",
       "\n",
       "    .dataframe thead th {\n",
       "        text-align: right;\n",
       "    }\n",
       "</style>\n",
       "<table border=\"1\" class=\"dataframe\">\n",
       "  <thead>\n",
       "    <tr style=\"text-align: right;\">\n",
       "      <th></th>\n",
       "      <th>Churn</th>\n",
       "      <th>Tenure</th>\n",
       "      <th>PreferredLoginDevice</th>\n",
       "      <th>CityTier</th>\n",
       "      <th>WarehouseToHome</th>\n",
       "      <th>PreferredPaymentMode</th>\n",
       "      <th>Gender</th>\n",
       "      <th>HourSpendOnApp</th>\n",
       "      <th>NumberOfDeviceRegistered</th>\n",
       "      <th>PreferedOrderCat</th>\n",
       "      <th>SatisfactionScore</th>\n",
       "      <th>MaritalStatus</th>\n",
       "      <th>NumberOfAddress</th>\n",
       "      <th>Complain</th>\n",
       "      <th>OrderAmountHikeFromlastYear</th>\n",
       "      <th>CouponUsed</th>\n",
       "      <th>OrderCount</th>\n",
       "      <th>DaySinceLastOrder</th>\n",
       "      <th>CashbackAmount</th>\n",
       "    </tr>\n",
       "    <tr>\n",
       "      <th>CustomerID</th>\n",
       "      <th></th>\n",
       "      <th></th>\n",
       "      <th></th>\n",
       "      <th></th>\n",
       "      <th></th>\n",
       "      <th></th>\n",
       "      <th></th>\n",
       "      <th></th>\n",
       "      <th></th>\n",
       "      <th></th>\n",
       "      <th></th>\n",
       "      <th></th>\n",
       "      <th></th>\n",
       "      <th></th>\n",
       "      <th></th>\n",
       "      <th></th>\n",
       "      <th></th>\n",
       "      <th></th>\n",
       "      <th></th>\n",
       "    </tr>\n",
       "  </thead>\n",
       "  <tbody>\n",
       "    <tr>\n",
       "      <th>50001</th>\n",
       "      <td>1</td>\n",
       "      <td>4.0</td>\n",
       "      <td>Mobile Phone</td>\n",
       "      <td>3</td>\n",
       "      <td>6.0</td>\n",
       "      <td>Debit Card</td>\n",
       "      <td>Female</td>\n",
       "      <td>3.0</td>\n",
       "      <td>3</td>\n",
       "      <td>Laptop &amp; Accessory</td>\n",
       "      <td>2</td>\n",
       "      <td>Single</td>\n",
       "      <td>9</td>\n",
       "      <td>1</td>\n",
       "      <td>11.0</td>\n",
       "      <td>1.0</td>\n",
       "      <td>1.0</td>\n",
       "      <td>5.0</td>\n",
       "      <td>160</td>\n",
       "    </tr>\n",
       "    <tr>\n",
       "      <th>50002</th>\n",
       "      <td>1</td>\n",
       "      <td>NaN</td>\n",
       "      <td>Phone</td>\n",
       "      <td>1</td>\n",
       "      <td>8.0</td>\n",
       "      <td>UPI</td>\n",
       "      <td>Male</td>\n",
       "      <td>3.0</td>\n",
       "      <td>4</td>\n",
       "      <td>Mobile</td>\n",
       "      <td>3</td>\n",
       "      <td>Single</td>\n",
       "      <td>7</td>\n",
       "      <td>1</td>\n",
       "      <td>15.0</td>\n",
       "      <td>0.0</td>\n",
       "      <td>1.0</td>\n",
       "      <td>0.0</td>\n",
       "      <td>121</td>\n",
       "    </tr>\n",
       "    <tr>\n",
       "      <th>50003</th>\n",
       "      <td>1</td>\n",
       "      <td>NaN</td>\n",
       "      <td>Phone</td>\n",
       "      <td>1</td>\n",
       "      <td>30.0</td>\n",
       "      <td>Debit Card</td>\n",
       "      <td>Male</td>\n",
       "      <td>2.0</td>\n",
       "      <td>4</td>\n",
       "      <td>Mobile</td>\n",
       "      <td>3</td>\n",
       "      <td>Single</td>\n",
       "      <td>6</td>\n",
       "      <td>1</td>\n",
       "      <td>14.0</td>\n",
       "      <td>0.0</td>\n",
       "      <td>1.0</td>\n",
       "      <td>3.0</td>\n",
       "      <td>120</td>\n",
       "    </tr>\n",
       "    <tr>\n",
       "      <th>50004</th>\n",
       "      <td>1</td>\n",
       "      <td>0.0</td>\n",
       "      <td>Phone</td>\n",
       "      <td>3</td>\n",
       "      <td>15.0</td>\n",
       "      <td>Debit Card</td>\n",
       "      <td>Male</td>\n",
       "      <td>2.0</td>\n",
       "      <td>4</td>\n",
       "      <td>Laptop &amp; Accessory</td>\n",
       "      <td>5</td>\n",
       "      <td>Single</td>\n",
       "      <td>8</td>\n",
       "      <td>0</td>\n",
       "      <td>23.0</td>\n",
       "      <td>0.0</td>\n",
       "      <td>1.0</td>\n",
       "      <td>3.0</td>\n",
       "      <td>134</td>\n",
       "    </tr>\n",
       "    <tr>\n",
       "      <th>50005</th>\n",
       "      <td>1</td>\n",
       "      <td>0.0</td>\n",
       "      <td>Phone</td>\n",
       "      <td>1</td>\n",
       "      <td>12.0</td>\n",
       "      <td>CC</td>\n",
       "      <td>Male</td>\n",
       "      <td>NaN</td>\n",
       "      <td>3</td>\n",
       "      <td>Mobile</td>\n",
       "      <td>5</td>\n",
       "      <td>Single</td>\n",
       "      <td>3</td>\n",
       "      <td>0</td>\n",
       "      <td>11.0</td>\n",
       "      <td>1.0</td>\n",
       "      <td>1.0</td>\n",
       "      <td>3.0</td>\n",
       "      <td>130</td>\n",
       "    </tr>\n",
       "  </tbody>\n",
       "</table>\n",
       "</div>"
      ],
      "text/plain": [
       "            Churn  Tenure PreferredLoginDevice  CityTier  WarehouseToHome  \\\n",
       "CustomerID                                                                  \n",
       "50001           1     4.0         Mobile Phone         3              6.0   \n",
       "50002           1     NaN                Phone         1              8.0   \n",
       "50003           1     NaN                Phone         1             30.0   \n",
       "50004           1     0.0                Phone         3             15.0   \n",
       "50005           1     0.0                Phone         1             12.0   \n",
       "\n",
       "           PreferredPaymentMode  Gender  HourSpendOnApp  \\\n",
       "CustomerID                                                \n",
       "50001                Debit Card  Female             3.0   \n",
       "50002                       UPI    Male             3.0   \n",
       "50003                Debit Card    Male             2.0   \n",
       "50004                Debit Card    Male             2.0   \n",
       "50005                        CC    Male             NaN   \n",
       "\n",
       "            NumberOfDeviceRegistered    PreferedOrderCat  SatisfactionScore  \\\n",
       "CustomerID                                                                    \n",
       "50001                              3  Laptop & Accessory                  2   \n",
       "50002                              4              Mobile                  3   \n",
       "50003                              4              Mobile                  3   \n",
       "50004                              4  Laptop & Accessory                  5   \n",
       "50005                              3              Mobile                  5   \n",
       "\n",
       "           MaritalStatus  NumberOfAddress  Complain  \\\n",
       "CustomerID                                            \n",
       "50001             Single                9         1   \n",
       "50002             Single                7         1   \n",
       "50003             Single                6         1   \n",
       "50004             Single                8         0   \n",
       "50005             Single                3         0   \n",
       "\n",
       "            OrderAmountHikeFromlastYear  CouponUsed  OrderCount  \\\n",
       "CustomerID                                                        \n",
       "50001                              11.0         1.0         1.0   \n",
       "50002                              15.0         0.0         1.0   \n",
       "50003                              14.0         0.0         1.0   \n",
       "50004                              23.0         0.0         1.0   \n",
       "50005                              11.0         1.0         1.0   \n",
       "\n",
       "            DaySinceLastOrder  CashbackAmount  \n",
       "CustomerID                                     \n",
       "50001                     5.0             160  \n",
       "50002                     0.0             121  \n",
       "50003                     3.0             120  \n",
       "50004                     3.0             134  \n",
       "50005                     3.0             130  "
      ]
     },
     "execution_count": 7,
     "metadata": {},
     "output_type": "execute_result"
    }
   ],
   "source": [
    "# Import data\n",
    "df = pd.read_csv(\"data/ECommerceDataset.csv\", index_col=\"CustomerID\")\n",
    "df.head()"
   ]
  },
  {
   "cell_type": "markdown",
   "metadata": {},
   "source": [
    "### Mini EDA"
   ]
  },
  {
   "cell_type": "code",
   "execution_count": 8,
   "metadata": {
    "ExecuteTime": {
     "end_time": "2021-10-02T06:46:45.811622Z",
     "start_time": "2021-10-02T06:46:45.763752Z"
    }
   },
   "outputs": [
    {
     "name": "stdout",
     "output_type": "stream",
     "text": [
      "Churn: 0.0%\n",
      "Tenure: 5.0%\n",
      "PreferredLoginDevice: 0.0%\n",
      "CityTier: 0.0%\n",
      "WarehouseToHome: 4.0%\n",
      "PreferredPaymentMode: 0.0%\n",
      "Gender: 0.0%\n",
      "HourSpendOnApp: 5.0%\n",
      "NumberOfDeviceRegistered: 0.0%\n",
      "PreferedOrderCat: 0.0%\n",
      "SatisfactionScore: 0.0%\n",
      "MaritalStatus: 0.0%\n",
      "NumberOfAddress: 0.0%\n",
      "Complain: 0.0%\n",
      "OrderAmountHikeFromlastYear: 5.0%\n",
      "CouponUsed: 5.0%\n",
      "OrderCount: 5.0%\n",
      "DaySinceLastOrder: 5.0%\n",
      "CashbackAmount: 0.0%\n"
     ]
    }
   ],
   "source": [
    "# percentage of the missing values\n",
    "for col in df.columns:\n",
    "    prct = np.mean(df[col].isnull())\n",
    "    print('{}: {}%'.format(col, round(prct*100)))"
   ]
  },
  {
   "cell_type": "markdown",
   "metadata": {},
   "source": [
    "hanya 5% missing values, kita impute nanti pakai column transformer"
   ]
  },
  {
   "cell_type": "code",
   "execution_count": 9,
   "metadata": {
    "ExecuteTime": {
     "end_time": "2021-10-02T06:46:49.931609Z",
     "start_time": "2021-10-02T06:46:49.859796Z"
    }
   },
   "outputs": [
    {
     "data": {
      "text/plain": [
       "0    0.831616\n",
       "1    0.168384\n",
       "Name: Churn, dtype: float64"
      ]
     },
     "execution_count": 9,
     "metadata": {},
     "output_type": "execute_result"
    }
   ],
   "source": [
    "df[\"Churn\"].value_counts() / len(df)"
   ]
  },
  {
   "cell_type": "markdown",
   "metadata": {},
   "source": [
    "data imbalance, sementara kita gunakan f1 score"
   ]
  },
  {
   "cell_type": "markdown",
   "metadata": {},
   "source": [
    "### Simple Model"
   ]
  },
  {
   "cell_type": "code",
   "execution_count": 10,
   "metadata": {
    "ExecuteTime": {
     "end_time": "2021-10-02T06:46:55.515671Z",
     "start_time": "2021-10-02T06:46:55.483758Z"
    }
   },
   "outputs": [
    {
     "data": {
      "text/plain": [
       "((4504, 18), (1126, 18), (4504,), (1126,))"
      ]
     },
     "execution_count": 10,
     "metadata": {},
     "output_type": "execute_result"
    }
   ],
   "source": [
    "# Dataset Splitting\n",
    "X = df.drop(columns=['Churn'])\n",
    "y = df.Churn\n",
    "\n",
    "X_train, X_test, y_train, y_test = train_test_split(X, y, test_size=0.2, stratify=y, random_state=42)\n",
    "X_train.shape, X_test.shape, y_train.shape, y_test.shape"
   ]
  },
  {
   "cell_type": "code",
   "execution_count": 11,
   "metadata": {
    "ExecuteTime": {
     "end_time": "2021-10-02T06:47:04.331098Z",
     "start_time": "2021-10-02T06:47:04.320126Z"
    }
   },
   "outputs": [
    {
     "data": {
      "text/plain": [
       "Index(['Tenure', 'PreferredLoginDevice', 'CityTier', 'WarehouseToHome',\n",
       "       'PreferredPaymentMode', 'Gender', 'HourSpendOnApp',\n",
       "       'NumberOfDeviceRegistered', 'PreferedOrderCat', 'SatisfactionScore',\n",
       "       'MaritalStatus', 'NumberOfAddress', 'Complain',\n",
       "       'OrderAmountHikeFromlastYear', 'CouponUsed', 'OrderCount',\n",
       "       'DaySinceLastOrder', 'CashbackAmount'],\n",
       "      dtype='object')"
      ]
     },
     "execution_count": 11,
     "metadata": {},
     "output_type": "execute_result"
    }
   ],
   "source": [
    "X.columns"
   ]
  },
  {
   "cell_type": "code",
   "execution_count": 24,
   "metadata": {
    "ExecuteTime": {
     "end_time": "2021-10-02T06:53:42.150216Z",
     "start_time": "2021-10-02T06:53:42.134260Z"
    }
   },
   "outputs": [],
   "source": [
    "# Preprocessor\n",
    "numerical_pipeline = Pipeline([\n",
    "    (\"imputer\", SimpleImputer(strategy='mean')),\n",
    "    (\"scaler\", MinMaxScaler()) #kita akan gunakan KNN, algo berbasis jarak bagusnya minmax karena ordo antar fitur akan seragam\n",
    "])\n",
    "\n",
    "categorical_pipeline = Pipeline([\n",
    "    (\"imputer\", SimpleImputer(strategy='most_frequent')),\n",
    "    (\"onehot\", OneHotEncoder())\n",
    "])\n",
    "\n",
    "preprocessor = ColumnTransformer([\n",
    "    ('numeric', numerical_pipeline, [\"Tenure\", \"WarehouseToHome\", \"HourSpendOnApp\", \"NumberOfDeviceRegistered\", \"SatisfactionScore\", \"NumberOfAddress\", \"OrderAmountHikeFromlastYear\", \"CouponUsed\", \"OrderCount\", \"DaySinceLastOrder\", \"CashbackAmount\"]),\n",
    "    ('categoric', categorical_pipeline, [\"PreferredLoginDevice\", \"CityTier\", \"PreferredPaymentMode\", \"Gender\", \"PreferedOrderCat\", \"MaritalStatus\", \"Complain\"]),\n",
    "])\n"
   ]
  },
  {
   "cell_type": "code",
   "execution_count": 25,
   "metadata": {
    "ExecuteTime": {
     "end_time": "2021-10-02T06:53:45.782503Z",
     "start_time": "2021-10-02T06:53:45.774525Z"
    }
   },
   "outputs": [],
   "source": [
    "# Pipeline\n",
    "pipeline = Pipeline([\n",
    "    (\"prep\", preprocessor),\n",
    "    (\"algo\", KNeighborsClassifier())\n",
    "])"
   ]
  },
  {
   "cell_type": "code",
   "execution_count": 26,
   "metadata": {
    "ExecuteTime": {
     "end_time": "2021-10-02T06:53:48.521179Z",
     "start_time": "2021-10-02T06:53:48.514199Z"
    }
   },
   "outputs": [],
   "source": [
    "# Parameter Tuning\n",
    "parameter = {\n",
    "    \"algo__n_neighbors\": np.arange(1, 51, 2), # jumlah tetangga harus ganjil\n",
    "    \"algo__weights\": ['uniform', 'distance'], #tuning voting, dan jarak\n",
    "    \"algo__p\": [1, 2] #manhatan, euclidean\n",
    "}"
   ]
  },
  {
   "cell_type": "code",
   "execution_count": 27,
   "metadata": {
    "ExecuteTime": {
     "end_time": "2021-10-02T06:57:38.243836Z",
     "start_time": "2021-10-02T06:54:28.348670Z"
    }
   },
   "outputs": [
    {
     "name": "stdout",
     "output_type": "stream",
     "text": [
      "Fitting 3 folds for each of 100 candidates, totalling 300 fits\n"
     ]
    },
    {
     "name": "stderr",
     "output_type": "stream",
     "text": [
      "[Parallel(n_jobs=-1)]: Using backend LokyBackend with 4 concurrent workers.\n",
      "[Parallel(n_jobs=-1)]: Done  42 tasks      | elapsed:   31.3s\n",
      "[Parallel(n_jobs=-1)]: Done 192 tasks      | elapsed:  2.0min\n",
      "[Parallel(n_jobs=-1)]: Done 300 out of 300 | elapsed:  3.1min finished\n"
     ]
    },
    {
     "name": "stdout",
     "output_type": "stream",
     "text": [
      "{'algo__n_neighbors': 1, 'algo__p': 1, 'algo__weights': 'uniform'}\n",
      "1.0 0.7382693273031599 0.8041775456919059\n"
     ]
    }
   ],
   "source": [
    "model = GridSearchCV(pipeline, param_grid=parameter, cv=3, scoring='f1', n_jobs=-1, verbose=1)\n",
    "model.fit(X_train, y_train)\n",
    "\n",
    "# Evaluation\n",
    "print(model.best_params_)\n",
    "print(model.score(X_train, y_train), model.best_score_, model.score(X_test, y_test))"
   ]
  },
  {
   "cell_type": "markdown",
   "metadata": {},
   "source": [
    "oke hasilnya cukup overvit antara hasil train dan test, sementara best model score kita di angka 73%. Next kita bisa gunakan beberapa metric evaluasi serta menambahkan polynomial feature, class_weight, transform atau bisa mencoba beberapa algoritma lainnya"
   ]
  },
  {
   "cell_type": "code",
   "execution_count": null,
   "metadata": {},
   "outputs": [],
   "source": []
  }
 ],
 "metadata": {
  "kernelspec": {
   "display_name": "Python [conda env:jcopml]",
   "language": "python",
   "name": "conda-env-jcopml-py"
  },
  "language_info": {
   "codemirror_mode": {
    "name": "ipython",
    "version": 3
   },
   "file_extension": ".py",
   "mimetype": "text/x-python",
   "name": "python",
   "nbconvert_exporter": "python",
   "pygments_lexer": "ipython3",
   "version": "3.7.6"
  }
 },
 "nbformat": 4,
 "nbformat_minor": 2
}
