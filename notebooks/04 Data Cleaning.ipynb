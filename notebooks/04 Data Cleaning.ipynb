{
 "cells": [
  {
   "cell_type": "code",
   "execution_count": 1,
   "metadata": {
    "ExecuteTime": {
     "end_time": "2021-10-04T15:07:52.605642Z",
     "start_time": "2021-10-04T15:07:48.623294Z"
    }
   },
   "outputs": [],
   "source": [
    "import pandas as pd\n",
    "import numpy as np\n",
    "import matplotlib.pyplot as plt\n",
    "import seaborn as sns"
   ]
  },
  {
   "cell_type": "markdown",
   "metadata": {},
   "source": [
    "# Import Data"
   ]
  },
  {
   "cell_type": "code",
   "execution_count": 2,
   "metadata": {
    "ExecuteTime": {
     "end_time": "2021-10-04T15:07:52.763221Z",
     "start_time": "2021-10-04T15:07:52.608635Z"
    }
   },
   "outputs": [
    {
     "data": {
      "text/html": [
       "<div>\n",
       "<style scoped>\n",
       "    .dataframe tbody tr th:only-of-type {\n",
       "        vertical-align: middle;\n",
       "    }\n",
       "\n",
       "    .dataframe tbody tr th {\n",
       "        vertical-align: top;\n",
       "    }\n",
       "\n",
       "    .dataframe thead th {\n",
       "        text-align: right;\n",
       "    }\n",
       "</style>\n",
       "<table border=\"1\" class=\"dataframe\">\n",
       "  <thead>\n",
       "    <tr style=\"text-align: right;\">\n",
       "      <th></th>\n",
       "      <th>Churn</th>\n",
       "      <th>Tenure</th>\n",
       "      <th>PreferredLoginDevice</th>\n",
       "      <th>CityTier</th>\n",
       "      <th>WarehouseToHome</th>\n",
       "      <th>PreferredPaymentMode</th>\n",
       "      <th>Gender</th>\n",
       "      <th>HourSpendOnApp</th>\n",
       "      <th>NumberOfDeviceRegistered</th>\n",
       "      <th>PreferedOrderCat</th>\n",
       "      <th>SatisfactionScore</th>\n",
       "      <th>MaritalStatus</th>\n",
       "      <th>NumberOfAddress</th>\n",
       "      <th>Complain</th>\n",
       "      <th>OrderAmountHikeFromlastYear</th>\n",
       "      <th>CouponUsed</th>\n",
       "      <th>OrderCount</th>\n",
       "      <th>DaySinceLastOrder</th>\n",
       "      <th>CashbackAmount</th>\n",
       "    </tr>\n",
       "    <tr>\n",
       "      <th>CustomerID</th>\n",
       "      <th></th>\n",
       "      <th></th>\n",
       "      <th></th>\n",
       "      <th></th>\n",
       "      <th></th>\n",
       "      <th></th>\n",
       "      <th></th>\n",
       "      <th></th>\n",
       "      <th></th>\n",
       "      <th></th>\n",
       "      <th></th>\n",
       "      <th></th>\n",
       "      <th></th>\n",
       "      <th></th>\n",
       "      <th></th>\n",
       "      <th></th>\n",
       "      <th></th>\n",
       "      <th></th>\n",
       "      <th></th>\n",
       "    </tr>\n",
       "  </thead>\n",
       "  <tbody>\n",
       "    <tr>\n",
       "      <th>50001</th>\n",
       "      <td>1</td>\n",
       "      <td>4.0</td>\n",
       "      <td>Mobile Phone</td>\n",
       "      <td>3</td>\n",
       "      <td>6.0</td>\n",
       "      <td>Debit Card</td>\n",
       "      <td>Female</td>\n",
       "      <td>3.0</td>\n",
       "      <td>3</td>\n",
       "      <td>Laptop &amp; Accessory</td>\n",
       "      <td>2</td>\n",
       "      <td>Single</td>\n",
       "      <td>9</td>\n",
       "      <td>1</td>\n",
       "      <td>11.0</td>\n",
       "      <td>1.0</td>\n",
       "      <td>1.0</td>\n",
       "      <td>5.0</td>\n",
       "      <td>160</td>\n",
       "    </tr>\n",
       "    <tr>\n",
       "      <th>50002</th>\n",
       "      <td>1</td>\n",
       "      <td>NaN</td>\n",
       "      <td>Phone</td>\n",
       "      <td>1</td>\n",
       "      <td>8.0</td>\n",
       "      <td>UPI</td>\n",
       "      <td>Male</td>\n",
       "      <td>3.0</td>\n",
       "      <td>4</td>\n",
       "      <td>Mobile</td>\n",
       "      <td>3</td>\n",
       "      <td>Single</td>\n",
       "      <td>7</td>\n",
       "      <td>1</td>\n",
       "      <td>15.0</td>\n",
       "      <td>0.0</td>\n",
       "      <td>1.0</td>\n",
       "      <td>0.0</td>\n",
       "      <td>121</td>\n",
       "    </tr>\n",
       "    <tr>\n",
       "      <th>50003</th>\n",
       "      <td>1</td>\n",
       "      <td>NaN</td>\n",
       "      <td>Phone</td>\n",
       "      <td>1</td>\n",
       "      <td>30.0</td>\n",
       "      <td>Debit Card</td>\n",
       "      <td>Male</td>\n",
       "      <td>2.0</td>\n",
       "      <td>4</td>\n",
       "      <td>Mobile</td>\n",
       "      <td>3</td>\n",
       "      <td>Single</td>\n",
       "      <td>6</td>\n",
       "      <td>1</td>\n",
       "      <td>14.0</td>\n",
       "      <td>0.0</td>\n",
       "      <td>1.0</td>\n",
       "      <td>3.0</td>\n",
       "      <td>120</td>\n",
       "    </tr>\n",
       "    <tr>\n",
       "      <th>50004</th>\n",
       "      <td>1</td>\n",
       "      <td>0.0</td>\n",
       "      <td>Phone</td>\n",
       "      <td>3</td>\n",
       "      <td>15.0</td>\n",
       "      <td>Debit Card</td>\n",
       "      <td>Male</td>\n",
       "      <td>2.0</td>\n",
       "      <td>4</td>\n",
       "      <td>Laptop &amp; Accessory</td>\n",
       "      <td>5</td>\n",
       "      <td>Single</td>\n",
       "      <td>8</td>\n",
       "      <td>0</td>\n",
       "      <td>23.0</td>\n",
       "      <td>0.0</td>\n",
       "      <td>1.0</td>\n",
       "      <td>3.0</td>\n",
       "      <td>134</td>\n",
       "    </tr>\n",
       "    <tr>\n",
       "      <th>50005</th>\n",
       "      <td>1</td>\n",
       "      <td>0.0</td>\n",
       "      <td>Phone</td>\n",
       "      <td>1</td>\n",
       "      <td>12.0</td>\n",
       "      <td>CC</td>\n",
       "      <td>Male</td>\n",
       "      <td>NaN</td>\n",
       "      <td>3</td>\n",
       "      <td>Mobile</td>\n",
       "      <td>5</td>\n",
       "      <td>Single</td>\n",
       "      <td>3</td>\n",
       "      <td>0</td>\n",
       "      <td>11.0</td>\n",
       "      <td>1.0</td>\n",
       "      <td>1.0</td>\n",
       "      <td>3.0</td>\n",
       "      <td>130</td>\n",
       "    </tr>\n",
       "  </tbody>\n",
       "</table>\n",
       "</div>"
      ],
      "text/plain": [
       "            Churn  Tenure PreferredLoginDevice  CityTier  WarehouseToHome  \\\n",
       "CustomerID                                                                  \n",
       "50001           1     4.0         Mobile Phone         3              6.0   \n",
       "50002           1     NaN                Phone         1              8.0   \n",
       "50003           1     NaN                Phone         1             30.0   \n",
       "50004           1     0.0                Phone         3             15.0   \n",
       "50005           1     0.0                Phone         1             12.0   \n",
       "\n",
       "           PreferredPaymentMode  Gender  HourSpendOnApp  \\\n",
       "CustomerID                                                \n",
       "50001                Debit Card  Female             3.0   \n",
       "50002                       UPI    Male             3.0   \n",
       "50003                Debit Card    Male             2.0   \n",
       "50004                Debit Card    Male             2.0   \n",
       "50005                        CC    Male             NaN   \n",
       "\n",
       "            NumberOfDeviceRegistered    PreferedOrderCat  SatisfactionScore  \\\n",
       "CustomerID                                                                    \n",
       "50001                              3  Laptop & Accessory                  2   \n",
       "50002                              4              Mobile                  3   \n",
       "50003                              4              Mobile                  3   \n",
       "50004                              4  Laptop & Accessory                  5   \n",
       "50005                              3              Mobile                  5   \n",
       "\n",
       "           MaritalStatus  NumberOfAddress  Complain  \\\n",
       "CustomerID                                            \n",
       "50001             Single                9         1   \n",
       "50002             Single                7         1   \n",
       "50003             Single                6         1   \n",
       "50004             Single                8         0   \n",
       "50005             Single                3         0   \n",
       "\n",
       "            OrderAmountHikeFromlastYear  CouponUsed  OrderCount  \\\n",
       "CustomerID                                                        \n",
       "50001                              11.0         1.0         1.0   \n",
       "50002                              15.0         0.0         1.0   \n",
       "50003                              14.0         0.0         1.0   \n",
       "50004                              23.0         0.0         1.0   \n",
       "50005                              11.0         1.0         1.0   \n",
       "\n",
       "            DaySinceLastOrder  CashbackAmount  \n",
       "CustomerID                                     \n",
       "50001                     5.0             160  \n",
       "50002                     0.0             121  \n",
       "50003                     3.0             120  \n",
       "50004                     3.0             134  \n",
       "50005                     3.0             130  "
      ]
     },
     "execution_count": 2,
     "metadata": {},
     "output_type": "execute_result"
    }
   ],
   "source": [
    "df = pd.read_csv(\"data/ECommerceDataset.csv\", index_col=\"CustomerID\")\n",
    "df.head()"
   ]
  },
  {
   "cell_type": "code",
   "execution_count": 3,
   "metadata": {
    "ExecuteTime": {
     "end_time": "2021-10-04T15:07:53.236957Z",
     "start_time": "2021-10-04T15:07:52.767212Z"
    }
   },
   "outputs": [
    {
     "data": {
      "text/html": [
       "<div>\n",
       "<style scoped>\n",
       "    .dataframe tbody tr th:only-of-type {\n",
       "        vertical-align: middle;\n",
       "    }\n",
       "\n",
       "    .dataframe tbody tr th {\n",
       "        vertical-align: top;\n",
       "    }\n",
       "\n",
       "    .dataframe thead th {\n",
       "        text-align: right;\n",
       "    }\n",
       "</style>\n",
       "<table border=\"1\" class=\"dataframe\">\n",
       "  <thead>\n",
       "    <tr style=\"text-align: right;\">\n",
       "      <th></th>\n",
       "      <th>Churn</th>\n",
       "      <th>Tenure</th>\n",
       "      <th>PreferredLoginDevice</th>\n",
       "      <th>CityTier</th>\n",
       "      <th>WarehouseToHome</th>\n",
       "      <th>PreferredPaymentMode</th>\n",
       "      <th>Gender</th>\n",
       "      <th>HourSpendOnApp</th>\n",
       "      <th>NumberOfDeviceRegistered</th>\n",
       "      <th>PreferedOrderCat</th>\n",
       "      <th>SatisfactionScore</th>\n",
       "      <th>MaritalStatus</th>\n",
       "      <th>NumberOfAddress</th>\n",
       "      <th>Complain</th>\n",
       "      <th>OrderAmountHikeFromlastYear</th>\n",
       "      <th>CouponUsed</th>\n",
       "      <th>OrderCount</th>\n",
       "      <th>DaySinceLastOrder</th>\n",
       "      <th>CashbackAmount</th>\n",
       "    </tr>\n",
       "    <tr>\n",
       "      <th>CustomerID</th>\n",
       "      <th></th>\n",
       "      <th></th>\n",
       "      <th></th>\n",
       "      <th></th>\n",
       "      <th></th>\n",
       "      <th></th>\n",
       "      <th></th>\n",
       "      <th></th>\n",
       "      <th></th>\n",
       "      <th></th>\n",
       "      <th></th>\n",
       "      <th></th>\n",
       "      <th></th>\n",
       "      <th></th>\n",
       "      <th></th>\n",
       "      <th></th>\n",
       "      <th></th>\n",
       "      <th></th>\n",
       "      <th></th>\n",
       "    </tr>\n",
       "  </thead>\n",
       "  <tbody>\n",
       "    <tr>\n",
       "      <th>55626</th>\n",
       "      <td>0</td>\n",
       "      <td>10.0</td>\n",
       "      <td>Computer</td>\n",
       "      <td>1</td>\n",
       "      <td>30.0</td>\n",
       "      <td>Credit Card</td>\n",
       "      <td>Male</td>\n",
       "      <td>3.0</td>\n",
       "      <td>2</td>\n",
       "      <td>Laptop &amp; Accessory</td>\n",
       "      <td>1</td>\n",
       "      <td>Married</td>\n",
       "      <td>6</td>\n",
       "      <td>0</td>\n",
       "      <td>18.0</td>\n",
       "      <td>1.0</td>\n",
       "      <td>2.0</td>\n",
       "      <td>4.0</td>\n",
       "      <td>151</td>\n",
       "    </tr>\n",
       "    <tr>\n",
       "      <th>55627</th>\n",
       "      <td>0</td>\n",
       "      <td>13.0</td>\n",
       "      <td>Mobile Phone</td>\n",
       "      <td>1</td>\n",
       "      <td>13.0</td>\n",
       "      <td>Credit Card</td>\n",
       "      <td>Male</td>\n",
       "      <td>3.0</td>\n",
       "      <td>5</td>\n",
       "      <td>Fashion</td>\n",
       "      <td>5</td>\n",
       "      <td>Married</td>\n",
       "      <td>6</td>\n",
       "      <td>0</td>\n",
       "      <td>16.0</td>\n",
       "      <td>1.0</td>\n",
       "      <td>2.0</td>\n",
       "      <td>NaN</td>\n",
       "      <td>225</td>\n",
       "    </tr>\n",
       "    <tr>\n",
       "      <th>55628</th>\n",
       "      <td>0</td>\n",
       "      <td>1.0</td>\n",
       "      <td>Mobile Phone</td>\n",
       "      <td>1</td>\n",
       "      <td>11.0</td>\n",
       "      <td>Debit Card</td>\n",
       "      <td>Male</td>\n",
       "      <td>3.0</td>\n",
       "      <td>2</td>\n",
       "      <td>Laptop &amp; Accessory</td>\n",
       "      <td>4</td>\n",
       "      <td>Married</td>\n",
       "      <td>3</td>\n",
       "      <td>1</td>\n",
       "      <td>21.0</td>\n",
       "      <td>1.0</td>\n",
       "      <td>2.0</td>\n",
       "      <td>4.0</td>\n",
       "      <td>186</td>\n",
       "    </tr>\n",
       "    <tr>\n",
       "      <th>55629</th>\n",
       "      <td>0</td>\n",
       "      <td>23.0</td>\n",
       "      <td>Computer</td>\n",
       "      <td>3</td>\n",
       "      <td>9.0</td>\n",
       "      <td>Credit Card</td>\n",
       "      <td>Male</td>\n",
       "      <td>4.0</td>\n",
       "      <td>5</td>\n",
       "      <td>Laptop &amp; Accessory</td>\n",
       "      <td>4</td>\n",
       "      <td>Married</td>\n",
       "      <td>4</td>\n",
       "      <td>0</td>\n",
       "      <td>15.0</td>\n",
       "      <td>2.0</td>\n",
       "      <td>2.0</td>\n",
       "      <td>9.0</td>\n",
       "      <td>179</td>\n",
       "    </tr>\n",
       "    <tr>\n",
       "      <th>55630</th>\n",
       "      <td>0</td>\n",
       "      <td>8.0</td>\n",
       "      <td>Mobile Phone</td>\n",
       "      <td>1</td>\n",
       "      <td>15.0</td>\n",
       "      <td>Credit Card</td>\n",
       "      <td>Male</td>\n",
       "      <td>3.0</td>\n",
       "      <td>2</td>\n",
       "      <td>Laptop &amp; Accessory</td>\n",
       "      <td>3</td>\n",
       "      <td>Married</td>\n",
       "      <td>4</td>\n",
       "      <td>0</td>\n",
       "      <td>13.0</td>\n",
       "      <td>2.0</td>\n",
       "      <td>2.0</td>\n",
       "      <td>3.0</td>\n",
       "      <td>169</td>\n",
       "    </tr>\n",
       "  </tbody>\n",
       "</table>\n",
       "</div>"
      ],
      "text/plain": [
       "            Churn  Tenure PreferredLoginDevice  CityTier  WarehouseToHome  \\\n",
       "CustomerID                                                                  \n",
       "55626           0    10.0             Computer         1             30.0   \n",
       "55627           0    13.0         Mobile Phone         1             13.0   \n",
       "55628           0     1.0         Mobile Phone         1             11.0   \n",
       "55629           0    23.0             Computer         3              9.0   \n",
       "55630           0     8.0         Mobile Phone         1             15.0   \n",
       "\n",
       "           PreferredPaymentMode Gender  HourSpendOnApp  \\\n",
       "CustomerID                                               \n",
       "55626               Credit Card   Male             3.0   \n",
       "55627               Credit Card   Male             3.0   \n",
       "55628                Debit Card   Male             3.0   \n",
       "55629               Credit Card   Male             4.0   \n",
       "55630               Credit Card   Male             3.0   \n",
       "\n",
       "            NumberOfDeviceRegistered    PreferedOrderCat  SatisfactionScore  \\\n",
       "CustomerID                                                                    \n",
       "55626                              2  Laptop & Accessory                  1   \n",
       "55627                              5             Fashion                  5   \n",
       "55628                              2  Laptop & Accessory                  4   \n",
       "55629                              5  Laptop & Accessory                  4   \n",
       "55630                              2  Laptop & Accessory                  3   \n",
       "\n",
       "           MaritalStatus  NumberOfAddress  Complain  \\\n",
       "CustomerID                                            \n",
       "55626            Married                6         0   \n",
       "55627            Married                6         0   \n",
       "55628            Married                3         1   \n",
       "55629            Married                4         0   \n",
       "55630            Married                4         0   \n",
       "\n",
       "            OrderAmountHikeFromlastYear  CouponUsed  OrderCount  \\\n",
       "CustomerID                                                        \n",
       "55626                              18.0         1.0         2.0   \n",
       "55627                              16.0         1.0         2.0   \n",
       "55628                              21.0         1.0         2.0   \n",
       "55629                              15.0         2.0         2.0   \n",
       "55630                              13.0         2.0         2.0   \n",
       "\n",
       "            DaySinceLastOrder  CashbackAmount  \n",
       "CustomerID                                     \n",
       "55626                     4.0             151  \n",
       "55627                     NaN             225  \n",
       "55628                     4.0             186  \n",
       "55629                     9.0             179  \n",
       "55630                     3.0             169  "
      ]
     },
     "execution_count": 3,
     "metadata": {},
     "output_type": "execute_result"
    }
   ],
   "source": [
    "df.tail()"
   ]
  },
  {
   "cell_type": "code",
   "execution_count": 4,
   "metadata": {
    "ExecuteTime": {
     "end_time": "2021-10-04T15:07:53.360624Z",
     "start_time": "2021-10-04T15:07:53.239947Z"
    }
   },
   "outputs": [
    {
     "data": {
      "text/plain": [
       "(5630, 19)"
      ]
     },
     "execution_count": 4,
     "metadata": {},
     "output_type": "execute_result"
    }
   ],
   "source": [
    "# Number of rows and columns using shape\n",
    "df.shape"
   ]
  },
  {
   "cell_type": "code",
   "execution_count": 5,
   "metadata": {
    "ExecuteTime": {
     "end_time": "2021-10-04T15:07:54.054768Z",
     "start_time": "2021-10-04T15:07:53.363616Z"
    }
   },
   "outputs": [
    {
     "name": "stdout",
     "output_type": "stream",
     "text": [
      "<class 'pandas.core.frame.DataFrame'>\n",
      "Int64Index: 5630 entries, 50001 to 55630\n",
      "Data columns (total 19 columns):\n",
      " #   Column                       Non-Null Count  Dtype  \n",
      "---  ------                       --------------  -----  \n",
      " 0   Churn                        5630 non-null   int64  \n",
      " 1   Tenure                       5366 non-null   float64\n",
      " 2   PreferredLoginDevice         5630 non-null   object \n",
      " 3   CityTier                     5630 non-null   int64  \n",
      " 4   WarehouseToHome              5379 non-null   float64\n",
      " 5   PreferredPaymentMode         5630 non-null   object \n",
      " 6   Gender                       5630 non-null   object \n",
      " 7   HourSpendOnApp               5375 non-null   float64\n",
      " 8   NumberOfDeviceRegistered     5630 non-null   int64  \n",
      " 9   PreferedOrderCat             5630 non-null   object \n",
      " 10  SatisfactionScore            5630 non-null   int64  \n",
      " 11  MaritalStatus                5630 non-null   object \n",
      " 12  NumberOfAddress              5630 non-null   int64  \n",
      " 13  Complain                     5630 non-null   int64  \n",
      " 14  OrderAmountHikeFromlastYear  5365 non-null   float64\n",
      " 15  CouponUsed                   5374 non-null   float64\n",
      " 16  OrderCount                   5372 non-null   float64\n",
      " 17  DaySinceLastOrder            5323 non-null   float64\n",
      " 18  CashbackAmount               5630 non-null   int64  \n",
      "dtypes: float64(7), int64(7), object(5)\n",
      "memory usage: 879.7+ KB\n"
     ]
    }
   ],
   "source": [
    "# Gaining information from dataset using info\n",
    "df.info()"
   ]
  },
  {
   "cell_type": "markdown",
   "metadata": {},
   "source": [
    "# Data Cleaning"
   ]
  },
  {
   "cell_type": "markdown",
   "metadata": {},
   "source": [
    "### Checking for CustomerID"
   ]
  },
  {
   "cell_type": "code",
   "execution_count": 6,
   "metadata": {
    "ExecuteTime": {
     "end_time": "2021-10-04T15:07:54.163479Z",
     "start_time": "2021-10-04T15:07:54.057761Z"
    }
   },
   "outputs": [
    {
     "data": {
      "text/plain": [
       "0    50001\n",
       "1    50002\n",
       "2    50003\n",
       "3    50004\n",
       "4    50005\n",
       "Name: CustomerID, dtype: int64"
      ]
     },
     "execution_count": 6,
     "metadata": {},
     "output_type": "execute_result"
    }
   ],
   "source": [
    "dfID = pd.read_csv(\"data/ECommerceDataset.csv\")\n",
    "dfID[\"CustomerID\"].head()"
   ]
  },
  {
   "cell_type": "code",
   "execution_count": 7,
   "metadata": {
    "ExecuteTime": {
     "end_time": "2021-10-04T15:07:54.224315Z",
     "start_time": "2021-10-04T15:07:54.168465Z"
    }
   },
   "outputs": [
    {
     "data": {
      "text/plain": [
       "5630"
      ]
     },
     "execution_count": 7,
     "metadata": {},
     "output_type": "execute_result"
    }
   ],
   "source": [
    "dfID[\"CustomerID\"].nunique()"
   ]
  },
  {
   "cell_type": "code",
   "execution_count": 8,
   "metadata": {
    "ExecuteTime": {
     "end_time": "2021-10-04T15:07:54.389871Z",
     "start_time": "2021-10-04T15:07:54.229301Z"
    }
   },
   "outputs": [
    {
     "data": {
      "text/plain": [
       "0    5\n",
       "1    5\n",
       "2    5\n",
       "3    5\n",
       "4    5\n",
       "Name: CustomerIDlength, dtype: int64"
      ]
     },
     "execution_count": 8,
     "metadata": {},
     "output_type": "execute_result"
    }
   ],
   "source": [
    "dfID[\"CustomerIDlength\"] = dfID[\"CustomerID\"].map(str).apply(len)\n",
    "dfID[\"CustomerIDlength\"].head()"
   ]
  },
  {
   "cell_type": "code",
   "execution_count": 9,
   "metadata": {
    "ExecuteTime": {
     "end_time": "2021-10-04T15:07:54.899508Z",
     "start_time": "2021-10-04T15:07:54.393861Z"
    }
   },
   "outputs": [
    {
     "data": {
      "text/plain": [
       "True    5630\n",
       "Name: CustomerIDlength, dtype: int64"
      ]
     },
     "execution_count": 9,
     "metadata": {},
     "output_type": "execute_result"
    }
   ],
   "source": [
    "(dfID[\"CustomerIDlength\"] == 5).value_counts()"
   ]
  },
  {
   "cell_type": "markdown",
   "metadata": {},
   "source": [
    "`\\d matches a digit (equal to [0-9])<br>\n",
    "\\S+ matches any non-whitespace character`"
   ]
  },
  {
   "cell_type": "code",
   "execution_count": 10,
   "metadata": {
    "ExecuteTime": {
     "end_time": "2021-10-04T15:07:54.981290Z",
     "start_time": "2021-10-04T15:07:54.902502Z"
    },
    "scrolled": true
   },
   "outputs": [
    {
     "data": {
      "text/plain": [
       "True    5630\n",
       "Name: CustomerID, dtype: int64"
      ]
     },
     "execution_count": 10,
     "metadata": {},
     "output_type": "execute_result"
    }
   ],
   "source": [
    "(dfID[\"CustomerID\"].astype(str).str.contains('\\d+\\S+')).value_counts()"
   ]
  },
  {
   "cell_type": "markdown",
   "metadata": {},
   "source": [
    "Kesimpulan CustomerID:<br>\n",
    "1. Data Unik, tidak ada double ID\n",
    "2. Panjang digit semuanya sesuai yaitu memiliki panjang total 5 digit\n",
    "3. Data semuanya angka ([0-9]) dan data tidak mengandung karakter non-spasi apa pun"
   ]
  },
  {
   "cell_type": "markdown",
   "metadata": {},
   "source": [
    "### Checking for duplicate data"
   ]
  },
  {
   "cell_type": "code",
   "execution_count": 11,
   "metadata": {
    "ExecuteTime": {
     "end_time": "2021-10-04T15:07:55.301435Z",
     "start_time": "2021-10-04T15:07:54.985279Z"
    }
   },
   "outputs": [
    {
     "data": {
      "text/html": [
       "<div>\n",
       "<style scoped>\n",
       "    .dataframe tbody tr th:only-of-type {\n",
       "        vertical-align: middle;\n",
       "    }\n",
       "\n",
       "    .dataframe tbody tr th {\n",
       "        vertical-align: top;\n",
       "    }\n",
       "\n",
       "    .dataframe thead th {\n",
       "        text-align: right;\n",
       "    }\n",
       "</style>\n",
       "<table border=\"1\" class=\"dataframe\">\n",
       "  <thead>\n",
       "    <tr style=\"text-align: right;\">\n",
       "      <th></th>\n",
       "      <th>Churn</th>\n",
       "      <th>Tenure</th>\n",
       "      <th>PreferredLoginDevice</th>\n",
       "      <th>CityTier</th>\n",
       "      <th>WarehouseToHome</th>\n",
       "      <th>PreferredPaymentMode</th>\n",
       "      <th>Gender</th>\n",
       "      <th>HourSpendOnApp</th>\n",
       "      <th>NumberOfDeviceRegistered</th>\n",
       "      <th>PreferedOrderCat</th>\n",
       "      <th>SatisfactionScore</th>\n",
       "      <th>MaritalStatus</th>\n",
       "      <th>NumberOfAddress</th>\n",
       "      <th>Complain</th>\n",
       "      <th>OrderAmountHikeFromlastYear</th>\n",
       "      <th>CouponUsed</th>\n",
       "      <th>OrderCount</th>\n",
       "      <th>DaySinceLastOrder</th>\n",
       "      <th>CashbackAmount</th>\n",
       "    </tr>\n",
       "    <tr>\n",
       "      <th>CustomerID</th>\n",
       "      <th></th>\n",
       "      <th></th>\n",
       "      <th></th>\n",
       "      <th></th>\n",
       "      <th></th>\n",
       "      <th></th>\n",
       "      <th></th>\n",
       "      <th></th>\n",
       "      <th></th>\n",
       "      <th></th>\n",
       "      <th></th>\n",
       "      <th></th>\n",
       "      <th></th>\n",
       "      <th></th>\n",
       "      <th></th>\n",
       "      <th></th>\n",
       "      <th></th>\n",
       "      <th></th>\n",
       "      <th></th>\n",
       "    </tr>\n",
       "  </thead>\n",
       "  <tbody>\n",
       "    <tr>\n",
       "      <th>51348</th>\n",
       "      <td>1</td>\n",
       "      <td>NaN</td>\n",
       "      <td>Phone</td>\n",
       "      <td>1</td>\n",
       "      <td>8.0</td>\n",
       "      <td>UPI</td>\n",
       "      <td>Male</td>\n",
       "      <td>3.0</td>\n",
       "      <td>4</td>\n",
       "      <td>Mobile</td>\n",
       "      <td>3</td>\n",
       "      <td>Single</td>\n",
       "      <td>7</td>\n",
       "      <td>1</td>\n",
       "      <td>15.0</td>\n",
       "      <td>0.0</td>\n",
       "      <td>1.0</td>\n",
       "      <td>0.0</td>\n",
       "      <td>121</td>\n",
       "    </tr>\n",
       "    <tr>\n",
       "      <th>51360</th>\n",
       "      <td>1</td>\n",
       "      <td>NaN</td>\n",
       "      <td>Phone</td>\n",
       "      <td>1</td>\n",
       "      <td>30.0</td>\n",
       "      <td>Debit Card</td>\n",
       "      <td>Male</td>\n",
       "      <td>2.0</td>\n",
       "      <td>4</td>\n",
       "      <td>Mobile</td>\n",
       "      <td>3</td>\n",
       "      <td>Single</td>\n",
       "      <td>6</td>\n",
       "      <td>1</td>\n",
       "      <td>14.0</td>\n",
       "      <td>0.0</td>\n",
       "      <td>1.0</td>\n",
       "      <td>3.0</td>\n",
       "      <td>120</td>\n",
       "    </tr>\n",
       "    <tr>\n",
       "      <th>51396</th>\n",
       "      <td>1</td>\n",
       "      <td>11.0</td>\n",
       "      <td>Mobile Phone</td>\n",
       "      <td>1</td>\n",
       "      <td>6.0</td>\n",
       "      <td>Debit Card</td>\n",
       "      <td>Male</td>\n",
       "      <td>3.0</td>\n",
       "      <td>4</td>\n",
       "      <td>Fashion</td>\n",
       "      <td>3</td>\n",
       "      <td>Single</td>\n",
       "      <td>10</td>\n",
       "      <td>1</td>\n",
       "      <td>13.0</td>\n",
       "      <td>0.0</td>\n",
       "      <td>1.0</td>\n",
       "      <td>0.0</td>\n",
       "      <td>154</td>\n",
       "    </tr>\n",
       "    <tr>\n",
       "      <th>51457</th>\n",
       "      <td>1</td>\n",
       "      <td>0.0</td>\n",
       "      <td>Computer</td>\n",
       "      <td>1</td>\n",
       "      <td>13.0</td>\n",
       "      <td>Debit Card</td>\n",
       "      <td>Male</td>\n",
       "      <td>3.0</td>\n",
       "      <td>5</td>\n",
       "      <td>Laptop &amp; Accessory</td>\n",
       "      <td>3</td>\n",
       "      <td>Single</td>\n",
       "      <td>2</td>\n",
       "      <td>1</td>\n",
       "      <td>24.0</td>\n",
       "      <td>1.0</td>\n",
       "      <td>1.0</td>\n",
       "      <td>6.0</td>\n",
       "      <td>161</td>\n",
       "    </tr>\n",
       "    <tr>\n",
       "      <th>51486</th>\n",
       "      <td>1</td>\n",
       "      <td>0.0</td>\n",
       "      <td>Phone</td>\n",
       "      <td>1</td>\n",
       "      <td>15.0</td>\n",
       "      <td>Credit Card</td>\n",
       "      <td>Female</td>\n",
       "      <td>2.0</td>\n",
       "      <td>3</td>\n",
       "      <td>Mobile Phone</td>\n",
       "      <td>5</td>\n",
       "      <td>Single</td>\n",
       "      <td>8</td>\n",
       "      <td>0</td>\n",
       "      <td>22.0</td>\n",
       "      <td>1.0</td>\n",
       "      <td>1.0</td>\n",
       "      <td>4.0</td>\n",
       "      <td>142</td>\n",
       "    </tr>\n",
       "    <tr>\n",
       "      <th>...</th>\n",
       "      <td>...</td>\n",
       "      <td>...</td>\n",
       "      <td>...</td>\n",
       "      <td>...</td>\n",
       "      <td>...</td>\n",
       "      <td>...</td>\n",
       "      <td>...</td>\n",
       "      <td>...</td>\n",
       "      <td>...</td>\n",
       "      <td>...</td>\n",
       "      <td>...</td>\n",
       "      <td>...</td>\n",
       "      <td>...</td>\n",
       "      <td>...</td>\n",
       "      <td>...</td>\n",
       "      <td>...</td>\n",
       "      <td>...</td>\n",
       "      <td>...</td>\n",
       "      <td>...</td>\n",
       "    </tr>\n",
       "    <tr>\n",
       "      <th>55612</th>\n",
       "      <td>0</td>\n",
       "      <td>12.0</td>\n",
       "      <td>Mobile Phone</td>\n",
       "      <td>3</td>\n",
       "      <td>17.0</td>\n",
       "      <td>Debit Card</td>\n",
       "      <td>Female</td>\n",
       "      <td>4.0</td>\n",
       "      <td>4</td>\n",
       "      <td>Laptop &amp; Accessory</td>\n",
       "      <td>1</td>\n",
       "      <td>Married</td>\n",
       "      <td>3</td>\n",
       "      <td>0</td>\n",
       "      <td>12.0</td>\n",
       "      <td>1.0</td>\n",
       "      <td>2.0</td>\n",
       "      <td>10.0</td>\n",
       "      <td>178</td>\n",
       "    </tr>\n",
       "    <tr>\n",
       "      <th>55614</th>\n",
       "      <td>0</td>\n",
       "      <td>10.0</td>\n",
       "      <td>Mobile Phone</td>\n",
       "      <td>3</td>\n",
       "      <td>18.0</td>\n",
       "      <td>E wallet</td>\n",
       "      <td>Female</td>\n",
       "      <td>4.0</td>\n",
       "      <td>5</td>\n",
       "      <td>Laptop &amp; Accessory</td>\n",
       "      <td>1</td>\n",
       "      <td>Married</td>\n",
       "      <td>6</td>\n",
       "      <td>0</td>\n",
       "      <td>14.0</td>\n",
       "      <td>2.0</td>\n",
       "      <td>2.0</td>\n",
       "      <td>1.0</td>\n",
       "      <td>192</td>\n",
       "    </tr>\n",
       "    <tr>\n",
       "      <th>55621</th>\n",
       "      <td>0</td>\n",
       "      <td>3.0</td>\n",
       "      <td>Mobile Phone</td>\n",
       "      <td>1</td>\n",
       "      <td>35.0</td>\n",
       "      <td>Credit Card</td>\n",
       "      <td>Female</td>\n",
       "      <td>4.0</td>\n",
       "      <td>5</td>\n",
       "      <td>Mobile Phone</td>\n",
       "      <td>5</td>\n",
       "      <td>Single</td>\n",
       "      <td>3</td>\n",
       "      <td>0</td>\n",
       "      <td>15.0</td>\n",
       "      <td>1.0</td>\n",
       "      <td>2.0</td>\n",
       "      <td>5.0</td>\n",
       "      <td>163</td>\n",
       "    </tr>\n",
       "    <tr>\n",
       "      <th>55626</th>\n",
       "      <td>0</td>\n",
       "      <td>10.0</td>\n",
       "      <td>Computer</td>\n",
       "      <td>1</td>\n",
       "      <td>30.0</td>\n",
       "      <td>Credit Card</td>\n",
       "      <td>Male</td>\n",
       "      <td>3.0</td>\n",
       "      <td>2</td>\n",
       "      <td>Laptop &amp; Accessory</td>\n",
       "      <td>1</td>\n",
       "      <td>Married</td>\n",
       "      <td>6</td>\n",
       "      <td>0</td>\n",
       "      <td>18.0</td>\n",
       "      <td>1.0</td>\n",
       "      <td>2.0</td>\n",
       "      <td>4.0</td>\n",
       "      <td>151</td>\n",
       "    </tr>\n",
       "    <tr>\n",
       "      <th>55629</th>\n",
       "      <td>0</td>\n",
       "      <td>23.0</td>\n",
       "      <td>Computer</td>\n",
       "      <td>3</td>\n",
       "      <td>9.0</td>\n",
       "      <td>Credit Card</td>\n",
       "      <td>Male</td>\n",
       "      <td>4.0</td>\n",
       "      <td>5</td>\n",
       "      <td>Laptop &amp; Accessory</td>\n",
       "      <td>4</td>\n",
       "      <td>Married</td>\n",
       "      <td>4</td>\n",
       "      <td>0</td>\n",
       "      <td>15.0</td>\n",
       "      <td>2.0</td>\n",
       "      <td>2.0</td>\n",
       "      <td>9.0</td>\n",
       "      <td>179</td>\n",
       "    </tr>\n",
       "  </tbody>\n",
       "</table>\n",
       "<p>556 rows × 19 columns</p>\n",
       "</div>"
      ],
      "text/plain": [
       "            Churn  Tenure PreferredLoginDevice  CityTier  WarehouseToHome  \\\n",
       "CustomerID                                                                  \n",
       "51348           1     NaN                Phone         1              8.0   \n",
       "51360           1     NaN                Phone         1             30.0   \n",
       "51396           1    11.0         Mobile Phone         1              6.0   \n",
       "51457           1     0.0             Computer         1             13.0   \n",
       "51486           1     0.0                Phone         1             15.0   \n",
       "...           ...     ...                  ...       ...              ...   \n",
       "55612           0    12.0         Mobile Phone         3             17.0   \n",
       "55614           0    10.0         Mobile Phone         3             18.0   \n",
       "55621           0     3.0         Mobile Phone         1             35.0   \n",
       "55626           0    10.0             Computer         1             30.0   \n",
       "55629           0    23.0             Computer         3              9.0   \n",
       "\n",
       "           PreferredPaymentMode  Gender  HourSpendOnApp  \\\n",
       "CustomerID                                                \n",
       "51348                       UPI    Male             3.0   \n",
       "51360                Debit Card    Male             2.0   \n",
       "51396                Debit Card    Male             3.0   \n",
       "51457                Debit Card    Male             3.0   \n",
       "51486               Credit Card  Female             2.0   \n",
       "...                         ...     ...             ...   \n",
       "55612                Debit Card  Female             4.0   \n",
       "55614                  E wallet  Female             4.0   \n",
       "55621               Credit Card  Female             4.0   \n",
       "55626               Credit Card    Male             3.0   \n",
       "55629               Credit Card    Male             4.0   \n",
       "\n",
       "            NumberOfDeviceRegistered    PreferedOrderCat  SatisfactionScore  \\\n",
       "CustomerID                                                                    \n",
       "51348                              4              Mobile                  3   \n",
       "51360                              4              Mobile                  3   \n",
       "51396                              4             Fashion                  3   \n",
       "51457                              5  Laptop & Accessory                  3   \n",
       "51486                              3        Mobile Phone                  5   \n",
       "...                              ...                 ...                ...   \n",
       "55612                              4  Laptop & Accessory                  1   \n",
       "55614                              5  Laptop & Accessory                  1   \n",
       "55621                              5        Mobile Phone                  5   \n",
       "55626                              2  Laptop & Accessory                  1   \n",
       "55629                              5  Laptop & Accessory                  4   \n",
       "\n",
       "           MaritalStatus  NumberOfAddress  Complain  \\\n",
       "CustomerID                                            \n",
       "51348             Single                7         1   \n",
       "51360             Single                6         1   \n",
       "51396             Single               10         1   \n",
       "51457             Single                2         1   \n",
       "51486             Single                8         0   \n",
       "...                  ...              ...       ...   \n",
       "55612            Married                3         0   \n",
       "55614            Married                6         0   \n",
       "55621             Single                3         0   \n",
       "55626            Married                6         0   \n",
       "55629            Married                4         0   \n",
       "\n",
       "            OrderAmountHikeFromlastYear  CouponUsed  OrderCount  \\\n",
       "CustomerID                                                        \n",
       "51348                              15.0         0.0         1.0   \n",
       "51360                              14.0         0.0         1.0   \n",
       "51396                              13.0         0.0         1.0   \n",
       "51457                              24.0         1.0         1.0   \n",
       "51486                              22.0         1.0         1.0   \n",
       "...                                 ...         ...         ...   \n",
       "55612                              12.0         1.0         2.0   \n",
       "55614                              14.0         2.0         2.0   \n",
       "55621                              15.0         1.0         2.0   \n",
       "55626                              18.0         1.0         2.0   \n",
       "55629                              15.0         2.0         2.0   \n",
       "\n",
       "            DaySinceLastOrder  CashbackAmount  \n",
       "CustomerID                                     \n",
       "51348                     0.0             121  \n",
       "51360                     3.0             120  \n",
       "51396                     0.0             154  \n",
       "51457                     6.0             161  \n",
       "51486                     4.0             142  \n",
       "...                       ...             ...  \n",
       "55612                    10.0             178  \n",
       "55614                     1.0             192  \n",
       "55621                     5.0             163  \n",
       "55626                     4.0             151  \n",
       "55629                     9.0             179  \n",
       "\n",
       "[556 rows x 19 columns]"
      ]
     },
     "execution_count": 11,
     "metadata": {},
     "output_type": "execute_result"
    }
   ],
   "source": [
    "df[df.duplicated()]"
   ]
  },
  {
   "cell_type": "code",
   "execution_count": 12,
   "metadata": {
    "ExecuteTime": {
     "end_time": "2021-10-04T15:07:55.317391Z",
     "start_time": "2021-10-04T15:07:55.305424Z"
    }
   },
   "outputs": [],
   "source": [
    "# Find duplicate columns in a DataFrame.\n",
    "def getDuplicateColumns(df):\n",
    "  \n",
    "    # Create an empty set\n",
    "    duplicateColumnNames = set()\n",
    "      \n",
    "    # Iterate through all the columns \n",
    "    # of dataframe\n",
    "    for x in range(df.shape[1]):\n",
    "          \n",
    "        # Take column at xth index.\n",
    "        col = df.iloc[:, x]\n",
    "          \n",
    "        # Iterate through all the columns in\n",
    "        # DataFrame from (x + 1)th index to\n",
    "        # last index\n",
    "        for y in range(x + 1, df.shape[1]):\n",
    "              \n",
    "            # Take column at yth index.\n",
    "            otherCol = df.iloc[:, y]\n",
    "              \n",
    "            # Check if two columns at x & y\n",
    "            # index are equal or not,\n",
    "            # if equal then adding \n",
    "            # to the set\n",
    "            if col.equals(otherCol):\n",
    "                duplicateColumnNames.add(df.columns.values[y])\n",
    "                  \n",
    "    # Return list of unique column names \n",
    "    # whose contents are duplicates.\n",
    "    return list(duplicateColumnNames)"
   ]
  },
  {
   "cell_type": "code",
   "execution_count": 13,
   "metadata": {
    "ExecuteTime": {
     "end_time": "2021-10-04T15:07:55.479956Z",
     "start_time": "2021-10-04T15:07:55.320384Z"
    }
   },
   "outputs": [
    {
     "name": "stdout",
     "output_type": "stream",
     "text": [
      "Duplicate Columns are :\n"
     ]
    }
   ],
   "source": [
    "# Get list of duplicate columns\n",
    "duplicateColNames = getDuplicateColumns(df)\n",
    "  \n",
    "print('Duplicate Columns are :')\n",
    "        \n",
    "# Iterate through duplicate\n",
    "# column names\n",
    "for column in duplicateColNames :\n",
    "    print('Column Name : ', column)"
   ]
  },
  {
   "cell_type": "markdown",
   "metadata": {},
   "source": [
    "Dari hasil diatas, dapat dilihat bahwa tidak ada duplikat data pada baris dataframe"
   ]
  },
  {
   "cell_type": "markdown",
   "metadata": {},
   "source": [
    "### Checking for missing value"
   ]
  },
  {
   "cell_type": "code",
   "execution_count": 14,
   "metadata": {
    "ExecuteTime": {
     "end_time": "2021-10-04T15:07:55.587668Z",
     "start_time": "2021-10-04T15:07:55.482949Z"
    }
   },
   "outputs": [
    {
     "data": {
      "text/plain": [
       "Churn                            0\n",
       "Tenure                         264\n",
       "PreferredLoginDevice             0\n",
       "CityTier                         0\n",
       "WarehouseToHome                251\n",
       "PreferredPaymentMode             0\n",
       "Gender                           0\n",
       "HourSpendOnApp                 255\n",
       "NumberOfDeviceRegistered         0\n",
       "PreferedOrderCat                 0\n",
       "SatisfactionScore                0\n",
       "MaritalStatus                    0\n",
       "NumberOfAddress                  0\n",
       "Complain                         0\n",
       "OrderAmountHikeFromlastYear    265\n",
       "CouponUsed                     256\n",
       "OrderCount                     258\n",
       "DaySinceLastOrder              307\n",
       "CashbackAmount                   0\n",
       "dtype: int64"
      ]
     },
     "execution_count": 14,
     "metadata": {},
     "output_type": "execute_result"
    }
   ],
   "source": [
    "# Total number of missing values per column\n",
    "df.isnull().sum()"
   ]
  },
  {
   "cell_type": "code",
   "execution_count": 15,
   "metadata": {
    "ExecuteTime": {
     "end_time": "2021-10-04T15:07:55.732283Z",
     "start_time": "2021-10-04T15:07:55.590662Z"
    }
   },
   "outputs": [
    {
     "name": "stdout",
     "output_type": "stream",
     "text": [
      "Churn: 0%\n",
      "Tenure: 5%\n",
      "PreferredLoginDevice: 0%\n",
      "CityTier: 0%\n",
      "WarehouseToHome: 4%\n",
      "PreferredPaymentMode: 0%\n",
      "Gender: 0%\n",
      "HourSpendOnApp: 5%\n",
      "NumberOfDeviceRegistered: 0%\n",
      "PreferedOrderCat: 0%\n",
      "SatisfactionScore: 0%\n",
      "MaritalStatus: 0%\n",
      "NumberOfAddress: 0%\n",
      "Complain: 0%\n",
      "OrderAmountHikeFromlastYear: 5%\n",
      "CouponUsed: 5%\n",
      "OrderCount: 5%\n",
      "DaySinceLastOrder: 5%\n",
      "CashbackAmount: 0%\n"
     ]
    }
   ],
   "source": [
    "# percentage of the missing values\n",
    "for col in df.columns:\n",
    "    prct = np.mean(df[col].isnull())\n",
    "    print('{}: {}%'.format(col, round(prct*100)))"
   ]
  },
  {
   "cell_type": "markdown",
   "metadata": {},
   "source": [
    "Kolom Target/Label kita Churn: 0%, aman tidak ada missing values, selebihnya ada beberapa missing values di beberapa kolom sekitar 5% yaitu:\n",
    "1. Tenure: 5%\n",
    "2. WarehouseToHome: 4%\n",
    "3. HourSpendOnApp: 5%\n",
    "4. OrderAmountHikeFromlastYear: 5%\n",
    "5. CouponUsed: 5%\n",
    "6. OrderCount: 5%\n",
    "7. DaySinceLastOrder: 5%\n"
   ]
  },
  {
   "cell_type": "markdown",
   "metadata": {},
   "source": [
    "sebelum melakukan pengisian missing value kita harus mengecek terlebih dahulu tipe data pada kolomnya dengan dtypes"
   ]
  },
  {
   "cell_type": "code",
   "execution_count": 16,
   "metadata": {
    "ExecuteTime": {
     "end_time": "2021-10-04T15:07:55.842985Z",
     "start_time": "2021-10-04T15:07:55.735276Z"
    }
   },
   "outputs": [
    {
     "data": {
      "text/plain": [
       "Tenure                         float64\n",
       "WarehouseToHome                float64\n",
       "HourSpendOnApp                 float64\n",
       "OrderAmountHikeFromlastYear    float64\n",
       "CouponUsed                     float64\n",
       "OrderCount                     float64\n",
       "DaySinceLastOrder              float64\n",
       "dtype: object"
      ]
     },
     "execution_count": 16,
     "metadata": {},
     "output_type": "execute_result"
    }
   ],
   "source": [
    "df[[\"Tenure\", \"WarehouseToHome\", \"HourSpendOnApp\", \"OrderAmountHikeFromlastYear\", \"CouponUsed\", \"OrderCount\", \"DaySinceLastOrder\"]].dtypes"
   ]
  },
  {
   "cell_type": "markdown",
   "metadata": {},
   "source": [
    "Dari hasil diatas, kolom yang memiliki missing value hanya pada tipe data numerikal"
   ]
  },
  {
   "cell_type": "markdown",
   "metadata": {},
   "source": [
    "Sebelum memutuskan metode yang digunakan untuk mengisi missing value, perlu di cek terlebih dahulu outlier pada masing-masing kolom"
   ]
  },
  {
   "cell_type": "code",
   "execution_count": 17,
   "metadata": {
    "ExecuteTime": {
     "end_time": "2021-10-04T15:07:55.964662Z",
     "start_time": "2021-10-04T15:07:55.845978Z"
    }
   },
   "outputs": [],
   "source": [
    "dfMissing = ['Tenure','WarehouseToHome','HourSpendOnApp','OrderAmountHikeFromlastYear','CouponUsed','OrderCount','DaySinceLastOrder']"
   ]
  },
  {
   "cell_type": "code",
   "execution_count": 18,
   "metadata": {
    "ExecuteTime": {
     "end_time": "2021-10-04T15:07:59.761507Z",
     "start_time": "2021-10-04T15:07:55.967653Z"
    }
   },
   "outputs": [
    {
     "data": {
      "image/png": "[encoded data removed]",
      "text/plain": [
       "<Figure size 720x360 with 1 Axes>"
      ]
     },
     "metadata": {
      "needs_background": "light"
     },
     "output_type": "display_data"
    },
    {
     "data": {
      "image/png": "[encoded data removed]",
      "text/plain": [
       "<Figure size 720x360 with 1 Axes>"
      ]
     },
     "metadata": {
      "needs_background": "light"
     },
     "output_type": "display_data"
    },
    {
     "data": {
      "image/png": "[encoded data removed]",
      "text/plain": [
       "<Figure size 720x360 with 1 Axes>"
      ]
     },
     "metadata": {
      "needs_background": "light"
     },
     "output_type": "display_data"
    },
    {
     "data": {
      "image/png": "[encoded data removed]",
      "text/plain": [
       "<Figure size 720x360 with 1 Axes>"
      ]
     },
     "metadata": {
      "needs_background": "light"
     },
     "output_type": "display_data"
    },
    {
     "data": {
      "image/png": "[encoded data removed]",
      "text/plain": [
       "<Figure size 720x360 with 1 Axes>"
      ]
     },
     "metadata": {
      "needs_background": "light"
     },
     "output_type": "display_data"
    },
    {
     "data": {
      "image/png": "[encoded data removed]",
      "text/plain": [
       "<Figure size 720x360 with 1 Axes>"
      ]
     },
     "metadata": {
      "needs_background": "light"
     },
     "output_type": "display_data"
    },
    {
     "data": {
      "image/png": "[encoded data removed]",
      "text/plain": [
       "<Figure size 720x360 with 1 Axes>"
      ]
     },
     "metadata": {
      "needs_background": "light"
     },
     "output_type": "display_data"
    }
   ],
   "source": [
    "# Creating Box Plot\n",
    "for column in dfMissing:\n",
    "    plt.figure(figsize=(10,5))\n",
    "    sns.boxplot(x=df[column])\n",
    "    plt.title(column, size=15)\n",
    "    plt.show()"
   ]
  },
  {
   "cell_type": "markdown",
   "metadata": {},
   "source": [
    "Dari grafik diatas kita dapat melihat skewness persebaran data serta outlier dari masing-masing variabel"
   ]
  },
  {
   "cell_type": "markdown",
   "metadata": {},
   "source": [
    "Selanjutnya, Kita perlu mengecek nilai mean dan median dari masing masing variabel terlebih dahulu"
   ]
  },
  {
   "cell_type": "code",
   "execution_count": 19,
   "metadata": {
    "ExecuteTime": {
     "end_time": "2021-10-04T15:07:59.880188Z",
     "start_time": "2021-10-04T15:07:59.778462Z"
    }
   },
   "outputs": [
    {
     "data": {
      "text/html": [
       "<div>\n",
       "<style scoped>\n",
       "    .dataframe tbody tr th:only-of-type {\n",
       "        vertical-align: middle;\n",
       "    }\n",
       "\n",
       "    .dataframe tbody tr th {\n",
       "        vertical-align: top;\n",
       "    }\n",
       "\n",
       "    .dataframe thead th {\n",
       "        text-align: right;\n",
       "    }\n",
       "</style>\n",
       "<table border=\"1\" class=\"dataframe\">\n",
       "  <thead>\n",
       "    <tr style=\"text-align: right;\">\n",
       "      <th></th>\n",
       "      <th>Tenure</th>\n",
       "      <th>WarehouseToHome</th>\n",
       "      <th>HourSpendOnApp</th>\n",
       "      <th>OrderAmountHikeFromlastYear</th>\n",
       "      <th>CouponUsed</th>\n",
       "      <th>OrderCount</th>\n",
       "      <th>DaySinceLastOrder</th>\n",
       "    </tr>\n",
       "  </thead>\n",
       "  <tbody>\n",
       "    <tr>\n",
       "      <th>count</th>\n",
       "      <td>5366.000000</td>\n",
       "      <td>5379.000000</td>\n",
       "      <td>5375.000000</td>\n",
       "      <td>5365.000000</td>\n",
       "      <td>5374.000000</td>\n",
       "      <td>5372.000000</td>\n",
       "      <td>5323.000000</td>\n",
       "    </tr>\n",
       "    <tr>\n",
       "      <th>mean</th>\n",
       "      <td>10.189899</td>\n",
       "      <td>15.639896</td>\n",
       "      <td>2.931535</td>\n",
       "      <td>15.707922</td>\n",
       "      <td>1.751023</td>\n",
       "      <td>3.008004</td>\n",
       "      <td>4.543491</td>\n",
       "    </tr>\n",
       "    <tr>\n",
       "      <th>std</th>\n",
       "      <td>8.557241</td>\n",
       "      <td>8.531475</td>\n",
       "      <td>0.721926</td>\n",
       "      <td>3.675485</td>\n",
       "      <td>1.894621</td>\n",
       "      <td>2.939680</td>\n",
       "      <td>3.654433</td>\n",
       "    </tr>\n",
       "    <tr>\n",
       "      <th>min</th>\n",
       "      <td>0.000000</td>\n",
       "      <td>5.000000</td>\n",
       "      <td>0.000000</td>\n",
       "      <td>11.000000</td>\n",
       "      <td>0.000000</td>\n",
       "      <td>1.000000</td>\n",
       "      <td>0.000000</td>\n",
       "    </tr>\n",
       "    <tr>\n",
       "      <th>25%</th>\n",
       "      <td>2.000000</td>\n",
       "      <td>9.000000</td>\n",
       "      <td>2.000000</td>\n",
       "      <td>13.000000</td>\n",
       "      <td>1.000000</td>\n",
       "      <td>1.000000</td>\n",
       "      <td>2.000000</td>\n",
       "    </tr>\n",
       "    <tr>\n",
       "      <th>50%</th>\n",
       "      <td>9.000000</td>\n",
       "      <td>14.000000</td>\n",
       "      <td>3.000000</td>\n",
       "      <td>15.000000</td>\n",
       "      <td>1.000000</td>\n",
       "      <td>2.000000</td>\n",
       "      <td>3.000000</td>\n",
       "    </tr>\n",
       "    <tr>\n",
       "      <th>75%</th>\n",
       "      <td>16.000000</td>\n",
       "      <td>20.000000</td>\n",
       "      <td>3.000000</td>\n",
       "      <td>18.000000</td>\n",
       "      <td>2.000000</td>\n",
       "      <td>3.000000</td>\n",
       "      <td>7.000000</td>\n",
       "    </tr>\n",
       "    <tr>\n",
       "      <th>max</th>\n",
       "      <td>61.000000</td>\n",
       "      <td>127.000000</td>\n",
       "      <td>5.000000</td>\n",
       "      <td>26.000000</td>\n",
       "      <td>16.000000</td>\n",
       "      <td>16.000000</td>\n",
       "      <td>46.000000</td>\n",
       "    </tr>\n",
       "  </tbody>\n",
       "</table>\n",
       "</div>"
      ],
      "text/plain": [
       "            Tenure  WarehouseToHome  HourSpendOnApp  \\\n",
       "count  5366.000000      5379.000000     5375.000000   \n",
       "mean     10.189899        15.639896        2.931535   \n",
       "std       8.557241         8.531475        0.721926   \n",
       "min       0.000000         5.000000        0.000000   \n",
       "25%       2.000000         9.000000        2.000000   \n",
       "50%       9.000000        14.000000        3.000000   \n",
       "75%      16.000000        20.000000        3.000000   \n",
       "max      61.000000       127.000000        5.000000   \n",
       "\n",
       "       OrderAmountHikeFromlastYear   CouponUsed   OrderCount  \\\n",
       "count                  5365.000000  5374.000000  5372.000000   \n",
       "mean                     15.707922     1.751023     3.008004   \n",
       "std                       3.675485     1.894621     2.939680   \n",
       "min                      11.000000     0.000000     1.000000   \n",
       "25%                      13.000000     1.000000     1.000000   \n",
       "50%                      15.000000     1.000000     2.000000   \n",
       "75%                      18.000000     2.000000     3.000000   \n",
       "max                      26.000000    16.000000    16.000000   \n",
       "\n",
       "       DaySinceLastOrder  \n",
       "count        5323.000000  \n",
       "mean            4.543491  \n",
       "std             3.654433  \n",
       "min             0.000000  \n",
       "25%             2.000000  \n",
       "50%             3.000000  \n",
       "75%             7.000000  \n",
       "max            46.000000  "
      ]
     },
     "execution_count": 19,
     "metadata": {},
     "output_type": "execute_result"
    }
   ],
   "source": [
    "df[['Tenure','WarehouseToHome','HourSpendOnApp','OrderAmountHikeFromlastYear','CouponUsed','OrderCount','DaySinceLastOrder']].describe()"
   ]
  },
  {
   "cell_type": "markdown",
   "metadata": {},
   "source": [
    "Bisa kita lihat rincian statistik diatas perbedaan nilai mean dan mediannya tidak terlalu jauh.<br>\n",
    "Karena pada kolom 'CouponUsed' dan 'OrderCount' memiliki banyak outlier, maka untuk kedua kolom tersebut akan kita input menggunakan median sebagai pengisi missing value dan kolom lainnya diisi menggunakan mean"
   ]
  },
  {
   "cell_type": "code",
   "execution_count": 20,
   "metadata": {
    "ExecuteTime": {
     "end_time": "2021-10-04T15:07:59.940029Z",
     "start_time": "2021-10-04T15:07:59.884179Z"
    }
   },
   "outputs": [],
   "source": [
    "# Mengisi missing value dengan mean\n",
    "for i in list (['Tenure','WarehouseToHome','HourSpendOnApp','OrderAmountHikeFromlastYear','DaySinceLastOrder']):\n",
    "    mean = df[i].mean()\n",
    "    df[i].fillna(mean, inplace=True)"
   ]
  },
  {
   "cell_type": "code",
   "execution_count": 21,
   "metadata": {
    "ExecuteTime": {
     "end_time": "2021-10-04T15:08:00.103591Z",
     "start_time": "2021-10-04T15:07:59.943023Z"
    }
   },
   "outputs": [],
   "source": [
    "# Mengisi missing value dengan median\n",
    "for j in list(['CouponUsed','OrderCount']):\n",
    "    median = df[j].median()\n",
    "    df[j].fillna(median, inplace=True)"
   ]
  },
  {
   "cell_type": "code",
   "execution_count": 22,
   "metadata": {
    "ExecuteTime": {
     "end_time": "2021-10-04T15:08:00.228258Z",
     "start_time": "2021-10-04T15:08:00.106584Z"
    }
   },
   "outputs": [
    {
     "data": {
      "text/plain": [
       "Churn                          0\n",
       "Tenure                         0\n",
       "PreferredLoginDevice           0\n",
       "CityTier                       0\n",
       "WarehouseToHome                0\n",
       "PreferredPaymentMode           0\n",
       "Gender                         0\n",
       "HourSpendOnApp                 0\n",
       "NumberOfDeviceRegistered       0\n",
       "PreferedOrderCat               0\n",
       "SatisfactionScore              0\n",
       "MaritalStatus                  0\n",
       "NumberOfAddress                0\n",
       "Complain                       0\n",
       "OrderAmountHikeFromlastYear    0\n",
       "CouponUsed                     0\n",
       "OrderCount                     0\n",
       "DaySinceLastOrder              0\n",
       "CashbackAmount                 0\n",
       "dtype: int64"
      ]
     },
     "execution_count": 22,
     "metadata": {},
     "output_type": "execute_result"
    }
   ],
   "source": [
    "# Total number of missing values per column\n",
    "df.isnull().sum()"
   ]
  },
  {
   "cell_type": "code",
   "execution_count": 23,
   "metadata": {
    "ExecuteTime": {
     "end_time": "2021-10-04T15:08:00.462632Z",
     "start_time": "2021-10-04T15:08:00.236237Z"
    }
   },
   "outputs": [
    {
     "data": {
      "text/plain": [
       "(5630, 19)"
      ]
     },
     "execution_count": 23,
     "metadata": {},
     "output_type": "execute_result"
    }
   ],
   "source": [
    "df.shape"
   ]
  },
  {
   "cell_type": "markdown",
   "metadata": {},
   "source": [
    "Oke sekarang sudah bersih dari missing values, terbukti dari jumlah missing values masing-masing variable yang bernilai 0. Selanjutnya kita akan melakukan penanganan pencilan (Outlier)"
   ]
  },
  {
   "cell_type": "markdown",
   "metadata": {},
   "source": [
    "# Handling Outlier"
   ]
  },
  {
   "cell_type": "markdown",
   "metadata": {},
   "source": [
    "cek outlier hanya variabel numerik<br>\n",
    "`[\"Tenure\", \"WarehouseToHome\", \"HourSpendOnApp\", \"NumberOfDeviceRegistered\", \"SatisfactionScore\", \"NumberOfAddress\", \"OrderAmountHikeFromlastYear\", \"CouponUsed\", \"OrderCount\", \"DaySinceLastOrder\", \"CashbackAmount\"]`"
   ]
  },
  {
   "cell_type": "code",
   "execution_count": 24,
   "metadata": {
    "ExecuteTime": {
     "end_time": "2021-10-04T15:08:00.762829Z",
     "start_time": "2021-10-04T15:08:00.467620Z"
    }
   },
   "outputs": [
    {
     "name": "stdout",
     "output_type": "stream",
     "text": [
      "\n",
      "Persebaran data sebelum ditangani Outlier: \n",
      "            Tenure  WarehouseToHome  HourSpendOnApp  NumberOfDeviceRegistered  \\\n",
      "count  5630.000000      5630.000000     5630.000000               5630.000000   \n",
      "mean     10.189899        15.639896        2.931535                  3.688988   \n",
      "std       8.354164         8.339095        0.705384                  1.023999   \n",
      "min       0.000000         5.000000        0.000000                  1.000000   \n",
      "25%       3.000000         9.000000        2.000000                  3.000000   \n",
      "50%       9.000000        14.000000        3.000000                  4.000000   \n",
      "75%      15.000000        20.000000        3.000000                  4.000000   \n",
      "max      61.000000       127.000000        5.000000                  6.000000   \n",
      "\n",
      "       SatisfactionScore  NumberOfAddress  OrderAmountHikeFromlastYear  \\\n",
      "count        5630.000000      5630.000000                  5630.000000   \n",
      "mean            3.066785         4.214032                    15.707922   \n",
      "std             1.380194         2.583586                     3.587926   \n",
      "min             1.000000         1.000000                    11.000000   \n",
      "25%             2.000000         2.000000                    13.000000   \n",
      "50%             3.000000         3.000000                    15.000000   \n",
      "75%             4.000000         6.000000                    18.000000   \n",
      "max             5.000000        22.000000                    26.000000   \n",
      "\n",
      "        CouponUsed   OrderCount  DaySinceLastOrder  CashbackAmount  \n",
      "count  5630.000000  5630.000000        5630.000000     5630.000000  \n",
      "mean      1.716874     2.961812           4.543491      177.221492  \n",
      "std       1.857640     2.879248           3.553382       49.193869  \n",
      "min       0.000000     1.000000           0.000000        0.000000  \n",
      "25%       1.000000     1.000000           2.000000      146.000000  \n",
      "50%       1.000000     2.000000           4.000000      163.000000  \n",
      "75%       2.000000     3.000000           7.000000      196.000000  \n",
      "max      16.000000    16.000000          46.000000      325.000000  \n"
     ]
    }
   ],
   "source": [
    "print('\\nPersebaran data sebelum ditangani Outlier: ')\n",
    "print(df[[\"Tenure\", \"WarehouseToHome\", \"HourSpendOnApp\", \"NumberOfDeviceRegistered\", \"SatisfactionScore\", \"NumberOfAddress\", \"OrderAmountHikeFromlastYear\", \"CouponUsed\", \"OrderCount\", \"DaySinceLastOrder\", \"CashbackAmount\"]].describe())"
   ]
  },
  {
   "cell_type": "markdown",
   "metadata": {},
   "source": [
    "kalo kita liat persebaran datanya dari kolom max nya ada nilai yang terlalu tinggi bila kita bandingkan dengan min nya."
   ]
  },
  {
   "cell_type": "code",
   "execution_count": 25,
   "metadata": {
    "ExecuteTime": {
     "end_time": "2021-10-04T15:08:00.779783Z",
     "start_time": "2021-10-04T15:08:00.766819Z"
    }
   },
   "outputs": [],
   "source": [
    "dfNum = [\"Tenure\", \"WarehouseToHome\", \"HourSpendOnApp\", \"NumberOfDeviceRegistered\", \"SatisfactionScore\", \"NumberOfAddress\", \"OrderAmountHikeFromlastYear\", \"CouponUsed\", \"OrderCount\", \"DaySinceLastOrder\", \"CashbackAmount\"]"
   ]
  },
  {
   "cell_type": "code",
   "execution_count": 26,
   "metadata": {
    "ExecuteTime": {
     "end_time": "2021-10-04T15:08:05.073300Z",
     "start_time": "2021-10-04T15:08:00.791752Z"
    }
   },
   "outputs": [
    {
     "data": {
      "image/png": "[encoded data removed]",
      "text/plain": [
       "<Figure size 720x360 with 1 Axes>"
      ]
     },
     "metadata": {
      "needs_background": "light"
     },
     "output_type": "display_data"
    },
    {
     "data": {
      "image/png": "[encoded data removed]",
      "text/plain": [
       "<Figure size 720x360 with 1 Axes>"
      ]
     },
     "metadata": {
      "needs_background": "light"
     },
     "output_type": "display_data"
    },
    {
     "data": {
      "image/png": "[encoded data removed]",
      "text/plain": [
       "<Figure size 720x360 with 1 Axes>"
      ]
     },
     "metadata": {
      "needs_background": "light"
     },
     "output_type": "display_data"
    },
    {
     "data": {
      "image/png": "[encoded data removed]",
      "text/plain": [
       "<Figure size 720x360 with 1 Axes>"
      ]
     },
     "metadata": {
      "needs_background": "light"
     },
     "output_type": "display_data"
    },
    {
     "data": {
      "image/png": "[encoded data removed]",
      "text/plain": [
       "<Figure size 720x360 with 1 Axes>"
      ]
     },
     "metadata": {
      "needs_background": "light"
     },
     "output_type": "display_data"
    },
    {
     "data": {
      "image/png": "[encoded data removed]",
      "text/plain": [
       "<Figure size 720x360 with 1 Axes>"
      ]
     },
     "metadata": {
      "needs_background": "light"
     },
     "output_type": "display_data"
    },
    {
     "data": {
      "image/png": "[encoded data removed]",
      "text/plain": [
       "<Figure size 720x360 with 1 Axes>"
      ]
     },
     "metadata": {
      "needs_background": "light"
     },
     "output_type": "display_data"
    },
    {
     "data": {
      "image/png": "[encoded data removed]",
      "text/plain": [
       "<Figure size 720x360 with 1 Axes>"
      ]
     },
     "metadata": {
      "needs_background": "light"
     },
     "output_type": "display_data"
    },
    {
     "data": {
      "image/png": "[encoded data removed]",
      "text/plain": [
       "<Figure size 720x360 with 1 Axes>"
      ]
     },
     "metadata": {
      "needs_background": "light"
     },
     "output_type": "display_data"
    },
    {
     "data": {
      "image/png": "[encoded data removed]",
      "text/plain": [
       "<Figure size 720x360 with 1 Axes>"
      ]
     },
     "metadata": {
      "needs_background": "light"
     },
     "output_type": "display_data"
    },
    {
     "data": {
      "image/png": "[encoded data removed]",
      "text/plain": [
       "<Figure size 720x360 with 1 Axes>"
      ]
     },
     "metadata": {
      "needs_background": "light"
     },
     "output_type": "display_data"
    }
   ],
   "source": [
    "# Creating Box Plot\n",
    "for column in dfNum:\n",
    "    plt.figure(figsize=(10,5))\n",
    "    sns.boxplot(x=df[column])\n",
    "    plt.title(column, size=15)\n",
    "    plt.show()"
   ]
  },
  {
   "cell_type": "markdown",
   "metadata": {},
   "source": [
    "Dari masing-masing Variable terlihat jelas bahwasannya ada outlier. Hal ini bisa di identifikasi dari adanya titik titik yang berada jauh dari gambar boxplotnya."
   ]
  },
  {
   "cell_type": "markdown",
   "metadata": {},
   "source": [
    "Dari plot diatas dapat kita simpulkan hanya variabel SatisfactionScore saja yang tidak ada outliernya"
   ]
  },
  {
   "cell_type": "markdown",
   "metadata": {},
   "source": [
    "Setelah kita mengetahui variable mana saja yang terdapat pencilan (Outlier), selanjutnya kita akan atasi Outlier dengan menggunakan metode interquartile range (IQR)."
   ]
  },
  {
   "cell_type": "code",
   "execution_count": 27,
   "metadata": {
    "ExecuteTime": {
     "end_time": "2021-10-04T15:08:05.459270Z",
     "start_time": "2021-10-04T15:08:05.076295Z"
    }
   },
   "outputs": [
    {
     "name": "stdout",
     "output_type": "stream",
     "text": [
      "Nilai Maximum dari masing-masing Variable adalah: \n",
      "Tenure                          33.0\n",
      "WarehouseToHome                 36.5\n",
      "HourSpendOnApp                   4.5\n",
      "NumberOfDeviceRegistered         5.5\n",
      "NumberOfAddress                 12.0\n",
      "OrderAmountHikeFromlastYear     25.5\n",
      "CouponUsed                       3.5\n",
      "OrderCount                       6.0\n",
      "DaySinceLastOrder               14.5\n",
      "CashbackAmount                 271.0\n",
      "dtype: float64\n",
      "\n",
      "Nilai Minimum dari masing-masing Variable adalah: \n",
      "Tenure                        -15.0\n",
      "WarehouseToHome                -7.5\n",
      "HourSpendOnApp                  0.5\n",
      "NumberOfDeviceRegistered        1.5\n",
      "NumberOfAddress                -4.0\n",
      "OrderAmountHikeFromlastYear     5.5\n",
      "CouponUsed                     -0.5\n",
      "OrderCount                     -2.0\n",
      "DaySinceLastOrder              -5.5\n",
      "CashbackAmount                 71.0\n",
      "dtype: float64\n"
     ]
    },
    {
     "name": "stderr",
     "output_type": "stream",
     "text": [
      "<ipython-input-27-e97878cdccd3>:14: FutureWarning: Automatic reindexing on DataFrame vs Series comparisons is deprecated and will raise ValueError in a future version.  Do `left, right = left.align(right, axis=1, copy=False)` before e.g. `left == right`\n",
      "  more_than = (df > maximum)\n",
      "<ipython-input-27-e97878cdccd3>:15: FutureWarning: Automatic reindexing on DataFrame vs Series comparisons is deprecated and will raise ValueError in a future version.  Do `left, right = left.align(right, axis=1, copy=False)` before e.g. `left == right`\n",
      "  lower_than = (df < minimum)\n"
     ]
    },
    {
     "name": "stdout",
     "output_type": "stream",
     "text": [
      "\n",
      "Persebaran data setelah ditangani Outlier: \n",
      "            Tenure  WarehouseToHome  HourSpendOnApp  NumberOfDeviceRegistered  \\\n",
      "count  5630.000000      5630.000000     5630.000000               5630.000000   \n",
      "mean     10.173914        15.607924        2.931535                  3.695471   \n",
      "std       8.287624         8.082533        0.703682                  0.942015   \n",
      "min       0.000000         5.000000        0.500000                  1.500000   \n",
      "25%       3.000000         9.000000        2.000000                  3.000000   \n",
      "50%       9.000000        14.000000        3.000000                  4.000000   \n",
      "75%      15.000000        20.000000        3.000000                  4.000000   \n",
      "max      33.000000        36.500000        4.500000                  5.500000   \n",
      "\n",
      "       NumberOfAddress  OrderAmountHikeFromlastYear   CouponUsed   OrderCount  \\\n",
      "count      5630.000000                  5630.000000  5630.000000  5630.000000   \n",
      "mean          4.207993                    15.704991     1.440409     2.520604   \n",
      "std           2.555111                     3.579711     1.071295     1.711109   \n",
      "min           1.000000                    11.000000     0.000000     1.000000   \n",
      "25%           2.000000                    13.000000     1.000000     1.000000   \n",
      "50%           3.000000                    15.000000     1.000000     2.000000   \n",
      "75%           6.000000                    18.000000     2.000000     3.000000   \n",
      "max          12.000000                    25.500000     3.500000     6.000000   \n",
      "\n",
      "       DaySinceLastOrder  CashbackAmount  \n",
      "count        5630.000000     5630.000000  \n",
      "mean            4.513295      175.225577  \n",
      "std             3.422020       43.834427  \n",
      "min             0.000000       71.000000  \n",
      "25%             2.000000      146.000000  \n",
      "50%             4.000000      163.000000  \n",
      "75%             7.000000      196.000000  \n",
      "max            14.500000      271.000000  \n"
     ]
    }
   ],
   "source": [
    "# Handling with IQR\n",
    "Q1 = (df[[\"Tenure\", \"WarehouseToHome\", \"HourSpendOnApp\", \"NumberOfDeviceRegistered\", \"NumberOfAddress\", \"OrderAmountHikeFromlastYear\", \"CouponUsed\", \"OrderCount\", \"DaySinceLastOrder\", \"CashbackAmount\"]]).quantile(0.25)\n",
    "Q3 = (df[[\"Tenure\", \"WarehouseToHome\", \"HourSpendOnApp\", \"NumberOfDeviceRegistered\", \"NumberOfAddress\", \"OrderAmountHikeFromlastYear\", \"CouponUsed\", \"OrderCount\", \"DaySinceLastOrder\", \"CashbackAmount\"]]).quantile(0.75)\n",
    "IQR = Q3 - Q1\n",
    "\n",
    "maximum = Q3 + (1.5*IQR)\n",
    "print('Nilai Maximum dari masing-masing Variable adalah: ')\n",
    "print(maximum)\n",
    "\n",
    "minimum = Q1 - (1.5*IQR)\n",
    "print('\\nNilai Minimum dari masing-masing Variable adalah: ')\n",
    "print(minimum)\n",
    "\n",
    "more_than = (df > maximum)\n",
    "lower_than = (df < minimum)\n",
    "\n",
    "df = df.mask(more_than, maximum, axis=1)\n",
    "df = df.mask(lower_than, minimum, axis=1)\n",
    "\n",
    "print('\\nPersebaran data setelah ditangani Outlier: ')\n",
    "print(df[[\"Tenure\", \"WarehouseToHome\", \"HourSpendOnApp\", \"NumberOfDeviceRegistered\", \"NumberOfAddress\", \"OrderAmountHikeFromlastYear\", \"CouponUsed\", \"OrderCount\", \"DaySinceLastOrder\", \"CashbackAmount\"]].describe())"
   ]
  },
  {
   "cell_type": "markdown",
   "metadata": {},
   "source": [
    "Nilai outlier tersebut ditangani dengan cara merubah nilainya ke nilai Maximum & Minimum dari interquartile range (IQR).<br>\n",
    "Setelah di tangani outliernya, dan dilihat perseberan data nya, terlihat sudah tidak ada lagi nilai yang outlier."
   ]
  },
  {
   "cell_type": "markdown",
   "metadata": {},
   "source": [
    "# Checking for Non-Standard Value\n",
    "cek hanya pada Categorical Feature<br>\n",
    "`[\"PreferredLoginDevice\", \"CityTier\", \"PreferredPaymentMode\", \"Gender\", \"PreferedOrderCat\", \"MaritalStatus\", \"Complain\"]`"
   ]
  },
  {
   "cell_type": "markdown",
   "metadata": {},
   "source": [
    "Mendeteksi apakah ada nilai-nilai dari variable kategorik yang tidak standard. Perbedaan dari data yang tidak standard akan menjadikan bias nantinya pada saat kita melakukan modeling."
   ]
  },
  {
   "cell_type": "markdown",
   "metadata": {},
   "source": [
    "Sebelum kita mengecek data dari masing-masing variable kategori, kita akan mengubah kolom 'CityTier' dan 'Complain' sebagai object"
   ]
  },
  {
   "cell_type": "code",
   "execution_count": 28,
   "metadata": {
    "ExecuteTime": {
     "end_time": "2021-10-04T15:08:05.556011Z",
     "start_time": "2021-10-04T15:08:05.462261Z"
    }
   },
   "outputs": [
    {
     "name": "stdout",
     "output_type": "stream",
     "text": [
      "<class 'pandas.core.frame.DataFrame'>\n",
      "Int64Index: 5630 entries, 50001 to 55630\n",
      "Data columns (total 7 columns):\n",
      " #   Column                Non-Null Count  Dtype \n",
      "---  ------                --------------  ----- \n",
      " 0   PreferredLoginDevice  5630 non-null   object\n",
      " 1   CityTier              5630 non-null   object\n",
      " 2   PreferredPaymentMode  5630 non-null   object\n",
      " 3   Gender                5630 non-null   object\n",
      " 4   PreferedOrderCat      5630 non-null   object\n",
      " 5   MaritalStatus         5630 non-null   object\n",
      " 6   Complain              5630 non-null   object\n",
      "dtypes: object(7)\n",
      "memory usage: 351.9+ KB\n"
     ]
    }
   ],
   "source": [
    "df['CityTier'] = df['CityTier'].astype('object')\n",
    "df['Complain'] = df['Complain'].astype('object')\n",
    "df[[\"PreferredLoginDevice\", \"CityTier\", \"PreferredPaymentMode\", \"Gender\", \"PreferedOrderCat\", \"MaritalStatus\", \"Complain\"]].info()"
   ]
  },
  {
   "cell_type": "markdown",
   "metadata": {},
   "source": [
    "Sekarang kita akan mengecek data dari masing-masing variable untuk mencari data yang tidak standard seperti bermakna ganda atau tidak konsisten"
   ]
  },
  {
   "cell_type": "code",
   "execution_count": 29,
   "metadata": {
    "ExecuteTime": {
     "end_time": "2021-10-04T15:08:05.668711Z",
     "start_time": "2021-10-04T15:08:05.559002Z"
    }
   },
   "outputs": [
    {
     "name": "stdout",
     "output_type": "stream",
     "text": [
      "Number of Every Distinct Categorical Feature\n",
      "\n",
      "\n",
      "Number of unique category in PreferredLoginDevice : 3\n",
      "The values are :\n",
      "Mobile Phone    2765\n",
      "Computer        1634\n",
      "Phone           1231\n",
      "Name: PreferredLoginDevice, dtype: int64\n",
      "\n",
      "Number of unique category in CityTier : 3\n",
      "The values are :\n",
      "1    3666\n",
      "3    1722\n",
      "2     242\n",
      "Name: CityTier, dtype: int64\n",
      "\n",
      "Number of unique category in PreferredPaymentMode : 7\n",
      "The values are :\n",
      "Debit Card          2314\n",
      "Credit Card         1501\n",
      "E wallet             614\n",
      "UPI                  414\n",
      "COD                  365\n",
      "CC                   273\n",
      "Cash on Delivery     149\n",
      "Name: PreferredPaymentMode, dtype: int64\n",
      "\n",
      "Number of unique category in Gender : 2\n",
      "The values are :\n",
      "Male      3384\n",
      "Female    2246\n",
      "Name: Gender, dtype: int64\n",
      "\n",
      "Number of unique category in PreferedOrderCat : 6\n",
      "The values are :\n",
      "Laptop & Accessory    2050\n",
      "Mobile Phone          1271\n",
      "Fashion                826\n",
      "Mobile                 809\n",
      "Grocery                410\n",
      "Others                 264\n",
      "Name: PreferedOrderCat, dtype: int64\n",
      "\n",
      "Number of unique category in MaritalStatus : 3\n",
      "The values are :\n",
      "Married     2986\n",
      "Single      1796\n",
      "Divorced     848\n",
      "Name: MaritalStatus, dtype: int64\n",
      "\n",
      "Number of unique category in Complain : 2\n",
      "The values are :\n",
      "0    4026\n",
      "1    1604\n",
      "Name: Complain, dtype: int64\n"
     ]
    }
   ],
   "source": [
    "print (\"Number of Every Distinct Categorical Feature\\n\")\n",
    "\n",
    "for col_name in df.columns:\n",
    "    if df[col_name].dtypes =='object':\n",
    "        print ('\\nNumber of unique category in {} : {}'.format(col_name, df[col_name].nunique()))\n",
    "        print ('The values are :')\n",
    "        print (df[col_name].value_counts())"
   ]
  },
  {
   "cell_type": "markdown",
   "metadata": {},
   "source": [
    "Setelah kita mengeteahui variable mana saja yang ada nilai tidak standar, maka kita standarkan dengan pola terbanyak nya, dengan syarat tanpa mengubah maknanya."
   ]
  },
  {
   "cell_type": "markdown",
   "metadata": {},
   "source": [
    "Berdasarkan hasil diatas, terlihat bahwa ada beberapa variable yang tidak konsisten atau bermakna ganda seperti:\n",
    "1. PreferredLoginDevice --> (Mobile Phone, Computer, Phone) dapat disesuaikan menjadi `(Mobile Phone, Computer)`\n",
    "2. PreferredPaymentMode --> (Debit Card, Credit Card, E Wallet, UPI, COD, CC, Cash on Delivery) dapat disesuaikan menjadi `(Debit Card, Credit Card, E Wallet, UPI, COD)`\n",
    "3. PreferredOrderCat --> (Laptop & Accessory, Mobile Phone, Fashion, Mobile, Grocery, Others) dapat disesuaikan menjadi `(Laptop & Accessory, Mobile Phone, Fashion, Grocery, Others)`"
   ]
  },
  {
   "cell_type": "markdown",
   "metadata": {},
   "source": [
    "Sekarang kita akan standarkan nilainya yang bermakna sama dengan replace"
   ]
  },
  {
   "cell_type": "code",
   "execution_count": 30,
   "metadata": {
    "ExecuteTime": {
     "end_time": "2021-10-04T15:08:05.761461Z",
     "start_time": "2021-10-04T15:08:05.672698Z"
    }
   },
   "outputs": [],
   "source": [
    "df['PreferredLoginDevice'].replace('Phone','Mobile Phone', inplace=True)\n",
    "df['PreferredPaymentMode'].replace('CC','Credit Card', inplace=True)\n",
    "df['PreferredPaymentMode'].replace('Cash on Delivery','COD', inplace=True)\n",
    "df['PreferedOrderCat'].replace('Mobile','Mobile Phone', inplace=True)"
   ]
  },
  {
   "cell_type": "code",
   "execution_count": 31,
   "metadata": {
    "ExecuteTime": {
     "end_time": "2021-10-04T15:08:05.919041Z",
     "start_time": "2021-10-04T15:08:05.764455Z"
    }
   },
   "outputs": [
    {
     "name": "stdout",
     "output_type": "stream",
     "text": [
      "Number of Every Distinct Categorical Feature After Standardization\n",
      "\n",
      "\n",
      "Number of unique category in PreferredLoginDevice : 2\n",
      "The values are :\n",
      "Mobile Phone    3996\n",
      "Computer        1634\n",
      "Name: PreferredLoginDevice, dtype: int64\n",
      "\n",
      "Number of unique category in CityTier : 3\n",
      "The values are :\n",
      "1    3666\n",
      "3    1722\n",
      "2     242\n",
      "Name: CityTier, dtype: int64\n",
      "\n",
      "Number of unique category in PreferredPaymentMode : 5\n",
      "The values are :\n",
      "Debit Card     2314\n",
      "Credit Card    1774\n",
      "E wallet        614\n",
      "COD             514\n",
      "UPI             414\n",
      "Name: PreferredPaymentMode, dtype: int64\n",
      "\n",
      "Number of unique category in Gender : 2\n",
      "The values are :\n",
      "Male      3384\n",
      "Female    2246\n",
      "Name: Gender, dtype: int64\n",
      "\n",
      "Number of unique category in PreferedOrderCat : 5\n",
      "The values are :\n",
      "Mobile Phone          2080\n",
      "Laptop & Accessory    2050\n",
      "Fashion                826\n",
      "Grocery                410\n",
      "Others                 264\n",
      "Name: PreferedOrderCat, dtype: int64\n",
      "\n",
      "Number of unique category in MaritalStatus : 3\n",
      "The values are :\n",
      "Married     2986\n",
      "Single      1796\n",
      "Divorced     848\n",
      "Name: MaritalStatus, dtype: int64\n",
      "\n",
      "Number of unique category in Complain : 2\n",
      "The values are :\n",
      "0    4026\n",
      "1    1604\n",
      "Name: Complain, dtype: int64\n"
     ]
    }
   ],
   "source": [
    "print (\"Number of Every Distinct Categorical Feature After Standardization\\n\")\n",
    "\n",
    "for col_name in df.columns:\n",
    "    if df[col_name].dtypes =='object':\n",
    "        print ('\\nNumber of unique category in {} : {}'.format(col_name, df[col_name].nunique()))\n",
    "        print ('The values are :')\n",
    "        print (df[col_name].value_counts())"
   ]
  },
  {
   "cell_type": "markdown",
   "metadata": {},
   "source": [
    "Cek hasil\n",
    "1. PreferredLoginDevice --> `(Mobile Phone, Computer)`\n",
    "2. PreferredPaymentMode --> `(Debit Card, Credit Card, E Wallet, COD, UPI)`\n",
    "3. PreferredOrderCat --> `(Mobile Phone, Laptop & Accessory, Fashion, Grocery, Others)`"
   ]
  },
  {
   "cell_type": "markdown",
   "metadata": {},
   "source": [
    "Berikut adalah data yang sudah clean"
   ]
  },
  {
   "cell_type": "code",
   "execution_count": 32,
   "metadata": {
    "ExecuteTime": {
     "end_time": "2021-10-04T15:08:06.094570Z",
     "start_time": "2021-10-04T15:08:05.922032Z"
    }
   },
   "outputs": [
    {
     "data": {
      "text/html": [
       "<div>\n",
       "<style scoped>\n",
       "    .dataframe tbody tr th:only-of-type {\n",
       "        vertical-align: middle;\n",
       "    }\n",
       "\n",
       "    .dataframe tbody tr th {\n",
       "        vertical-align: top;\n",
       "    }\n",
       "\n",
       "    .dataframe thead th {\n",
       "        text-align: right;\n",
       "    }\n",
       "</style>\n",
       "<table border=\"1\" class=\"dataframe\">\n",
       "  <thead>\n",
       "    <tr style=\"text-align: right;\">\n",
       "      <th></th>\n",
       "      <th>Churn</th>\n",
       "      <th>Tenure</th>\n",
       "      <th>PreferredLoginDevice</th>\n",
       "      <th>CityTier</th>\n",
       "      <th>WarehouseToHome</th>\n",
       "      <th>PreferredPaymentMode</th>\n",
       "      <th>Gender</th>\n",
       "      <th>HourSpendOnApp</th>\n",
       "      <th>NumberOfDeviceRegistered</th>\n",
       "      <th>PreferedOrderCat</th>\n",
       "      <th>SatisfactionScore</th>\n",
       "      <th>MaritalStatus</th>\n",
       "      <th>NumberOfAddress</th>\n",
       "      <th>Complain</th>\n",
       "      <th>OrderAmountHikeFromlastYear</th>\n",
       "      <th>CouponUsed</th>\n",
       "      <th>OrderCount</th>\n",
       "      <th>DaySinceLastOrder</th>\n",
       "      <th>CashbackAmount</th>\n",
       "    </tr>\n",
       "    <tr>\n",
       "      <th>CustomerID</th>\n",
       "      <th></th>\n",
       "      <th></th>\n",
       "      <th></th>\n",
       "      <th></th>\n",
       "      <th></th>\n",
       "      <th></th>\n",
       "      <th></th>\n",
       "      <th></th>\n",
       "      <th></th>\n",
       "      <th></th>\n",
       "      <th></th>\n",
       "      <th></th>\n",
       "      <th></th>\n",
       "      <th></th>\n",
       "      <th></th>\n",
       "      <th></th>\n",
       "      <th></th>\n",
       "      <th></th>\n",
       "      <th></th>\n",
       "    </tr>\n",
       "  </thead>\n",
       "  <tbody>\n",
       "    <tr>\n",
       "      <th>50001</th>\n",
       "      <td>1</td>\n",
       "      <td>4.000000</td>\n",
       "      <td>Mobile Phone</td>\n",
       "      <td>3</td>\n",
       "      <td>6.0</td>\n",
       "      <td>Debit Card</td>\n",
       "      <td>Female</td>\n",
       "      <td>3.000000</td>\n",
       "      <td>3.0</td>\n",
       "      <td>Laptop &amp; Accessory</td>\n",
       "      <td>2</td>\n",
       "      <td>Single</td>\n",
       "      <td>9</td>\n",
       "      <td>1</td>\n",
       "      <td>11.0</td>\n",
       "      <td>1.0</td>\n",
       "      <td>1.0</td>\n",
       "      <td>5.0</td>\n",
       "      <td>160</td>\n",
       "    </tr>\n",
       "    <tr>\n",
       "      <th>50002</th>\n",
       "      <td>1</td>\n",
       "      <td>10.189899</td>\n",
       "      <td>Mobile Phone</td>\n",
       "      <td>1</td>\n",
       "      <td>8.0</td>\n",
       "      <td>UPI</td>\n",
       "      <td>Male</td>\n",
       "      <td>3.000000</td>\n",
       "      <td>4.0</td>\n",
       "      <td>Mobile Phone</td>\n",
       "      <td>3</td>\n",
       "      <td>Single</td>\n",
       "      <td>7</td>\n",
       "      <td>1</td>\n",
       "      <td>15.0</td>\n",
       "      <td>0.0</td>\n",
       "      <td>1.0</td>\n",
       "      <td>0.0</td>\n",
       "      <td>121</td>\n",
       "    </tr>\n",
       "    <tr>\n",
       "      <th>50003</th>\n",
       "      <td>1</td>\n",
       "      <td>10.189899</td>\n",
       "      <td>Mobile Phone</td>\n",
       "      <td>1</td>\n",
       "      <td>30.0</td>\n",
       "      <td>Debit Card</td>\n",
       "      <td>Male</td>\n",
       "      <td>2.000000</td>\n",
       "      <td>4.0</td>\n",
       "      <td>Mobile Phone</td>\n",
       "      <td>3</td>\n",
       "      <td>Single</td>\n",
       "      <td>6</td>\n",
       "      <td>1</td>\n",
       "      <td>14.0</td>\n",
       "      <td>0.0</td>\n",
       "      <td>1.0</td>\n",
       "      <td>3.0</td>\n",
       "      <td>120</td>\n",
       "    </tr>\n",
       "    <tr>\n",
       "      <th>50004</th>\n",
       "      <td>1</td>\n",
       "      <td>0.000000</td>\n",
       "      <td>Mobile Phone</td>\n",
       "      <td>3</td>\n",
       "      <td>15.0</td>\n",
       "      <td>Debit Card</td>\n",
       "      <td>Male</td>\n",
       "      <td>2.000000</td>\n",
       "      <td>4.0</td>\n",
       "      <td>Laptop &amp; Accessory</td>\n",
       "      <td>5</td>\n",
       "      <td>Single</td>\n",
       "      <td>8</td>\n",
       "      <td>0</td>\n",
       "      <td>23.0</td>\n",
       "      <td>0.0</td>\n",
       "      <td>1.0</td>\n",
       "      <td>3.0</td>\n",
       "      <td>134</td>\n",
       "    </tr>\n",
       "    <tr>\n",
       "      <th>50005</th>\n",
       "      <td>1</td>\n",
       "      <td>0.000000</td>\n",
       "      <td>Mobile Phone</td>\n",
       "      <td>1</td>\n",
       "      <td>12.0</td>\n",
       "      <td>Credit Card</td>\n",
       "      <td>Male</td>\n",
       "      <td>2.931535</td>\n",
       "      <td>3.0</td>\n",
       "      <td>Mobile Phone</td>\n",
       "      <td>5</td>\n",
       "      <td>Single</td>\n",
       "      <td>3</td>\n",
       "      <td>0</td>\n",
       "      <td>11.0</td>\n",
       "      <td>1.0</td>\n",
       "      <td>1.0</td>\n",
       "      <td>3.0</td>\n",
       "      <td>130</td>\n",
       "    </tr>\n",
       "  </tbody>\n",
       "</table>\n",
       "</div>"
      ],
      "text/plain": [
       "            Churn     Tenure PreferredLoginDevice CityTier  WarehouseToHome  \\\n",
       "CustomerID                                                                    \n",
       "50001           1   4.000000         Mobile Phone        3              6.0   \n",
       "50002           1  10.189899         Mobile Phone        1              8.0   \n",
       "50003           1  10.189899         Mobile Phone        1             30.0   \n",
       "50004           1   0.000000         Mobile Phone        3             15.0   \n",
       "50005           1   0.000000         Mobile Phone        1             12.0   \n",
       "\n",
       "           PreferredPaymentMode  Gender  HourSpendOnApp  \\\n",
       "CustomerID                                                \n",
       "50001                Debit Card  Female        3.000000   \n",
       "50002                       UPI    Male        3.000000   \n",
       "50003                Debit Card    Male        2.000000   \n",
       "50004                Debit Card    Male        2.000000   \n",
       "50005               Credit Card    Male        2.931535   \n",
       "\n",
       "            NumberOfDeviceRegistered    PreferedOrderCat  SatisfactionScore  \\\n",
       "CustomerID                                                                    \n",
       "50001                            3.0  Laptop & Accessory                  2   \n",
       "50002                            4.0        Mobile Phone                  3   \n",
       "50003                            4.0        Mobile Phone                  3   \n",
       "50004                            4.0  Laptop & Accessory                  5   \n",
       "50005                            3.0        Mobile Phone                  5   \n",
       "\n",
       "           MaritalStatus  NumberOfAddress Complain  \\\n",
       "CustomerID                                           \n",
       "50001             Single                9        1   \n",
       "50002             Single                7        1   \n",
       "50003             Single                6        1   \n",
       "50004             Single                8        0   \n",
       "50005             Single                3        0   \n",
       "\n",
       "            OrderAmountHikeFromlastYear  CouponUsed  OrderCount  \\\n",
       "CustomerID                                                        \n",
       "50001                              11.0         1.0         1.0   \n",
       "50002                              15.0         0.0         1.0   \n",
       "50003                              14.0         0.0         1.0   \n",
       "50004                              23.0         0.0         1.0   \n",
       "50005                              11.0         1.0         1.0   \n",
       "\n",
       "            DaySinceLastOrder  CashbackAmount  \n",
       "CustomerID                                     \n",
       "50001                     5.0             160  \n",
       "50002                     0.0             121  \n",
       "50003                     3.0             120  \n",
       "50004                     3.0             134  \n",
       "50005                     3.0             130  "
      ]
     },
     "execution_count": 32,
     "metadata": {},
     "output_type": "execute_result"
    }
   ],
   "source": [
    "df.head()"
   ]
  },
  {
   "cell_type": "code",
   "execution_count": 33,
   "metadata": {
    "ExecuteTime": {
     "end_time": "2021-10-04T15:08:06.206273Z",
     "start_time": "2021-10-04T15:08:06.097563Z"
    }
   },
   "outputs": [
    {
     "data": {
      "text/plain": [
       "(5630, 19)"
      ]
     },
     "execution_count": 33,
     "metadata": {},
     "output_type": "execute_result"
    }
   ],
   "source": [
    "df.shape"
   ]
  },
  {
   "cell_type": "code",
   "execution_count": 34,
   "metadata": {
    "ExecuteTime": {
     "end_time": "2021-10-04T15:08:06.345898Z",
     "start_time": "2021-10-04T15:08:06.209266Z"
    }
   },
   "outputs": [
    {
     "name": "stdout",
     "output_type": "stream",
     "text": [
      "<class 'pandas.core.frame.DataFrame'>\n",
      "Int64Index: 5630 entries, 50001 to 55630\n",
      "Data columns (total 11 columns):\n",
      " #   Column                       Non-Null Count  Dtype  \n",
      "---  ------                       --------------  -----  \n",
      " 0   Tenure                       5630 non-null   float64\n",
      " 1   WarehouseToHome              5630 non-null   float64\n",
      " 2   HourSpendOnApp               5630 non-null   float64\n",
      " 3   NumberOfDeviceRegistered     5630 non-null   float64\n",
      " 4   SatisfactionScore            5630 non-null   int64  \n",
      " 5   NumberOfAddress              5630 non-null   int64  \n",
      " 6   OrderAmountHikeFromlastYear  5630 non-null   float64\n",
      " 7   CouponUsed                   5630 non-null   float64\n",
      " 8   OrderCount                   5630 non-null   float64\n",
      " 9   DaySinceLastOrder            5630 non-null   float64\n",
      " 10  CashbackAmount               5630 non-null   int64  \n",
      "dtypes: float64(8), int64(3)\n",
      "memory usage: 527.8 KB\n"
     ]
    }
   ],
   "source": [
    "df[[\"Tenure\", \"WarehouseToHome\", \"HourSpendOnApp\", \"NumberOfDeviceRegistered\", \"SatisfactionScore\", \"NumberOfAddress\", \"OrderAmountHikeFromlastYear\", \"CouponUsed\", \"OrderCount\", \"DaySinceLastOrder\", \"CashbackAmount\"]].info()"
   ]
  },
  {
   "cell_type": "markdown",
   "metadata": {},
   "source": [
    "Terlihat fitur numerik banyak berubah menjadi type float, mari kita rubah dahulu ke type int"
   ]
  },
  {
   "cell_type": "code",
   "execution_count": 35,
   "metadata": {
    "ExecuteTime": {
     "end_time": "2021-10-04T15:08:06.566308Z",
     "start_time": "2021-10-04T15:08:06.348892Z"
    }
   },
   "outputs": [],
   "source": [
    "df[\"Tenure\"] = df[\"Tenure\"].apply(np.int64)\n",
    "df[\"WarehouseToHome\"] = df[\"WarehouseToHome\"].apply(np.int64)\n",
    "df[\"HourSpendOnApp\"] = df[\"HourSpendOnApp\"].apply(np.int64)\n",
    "df[\"NumberOfDeviceRegistered\"] = df[\"NumberOfDeviceRegistered\"].apply(np.int64)\n",
    "df[\"OrderAmountHikeFromlastYear\"] = df[\"OrderAmountHikeFromlastYear\"].apply(np.int64)\n",
    "df[\"CouponUsed\"] = df[\"CouponUsed\"].apply(np.int64)\n",
    "df[\"OrderCount\"] = df[\"OrderCount\"].apply(np.int64)\n",
    "df[\"DaySinceLastOrder\"] = df[\"DaySinceLastOrder\"].apply(np.int64)"
   ]
  },
  {
   "cell_type": "code",
   "execution_count": 36,
   "metadata": {
    "ExecuteTime": {
     "end_time": "2021-10-04T15:08:06.647092Z",
     "start_time": "2021-10-04T15:08:06.575285Z"
    }
   },
   "outputs": [
    {
     "data": {
      "text/html": [
       "<div>\n",
       "<style scoped>\n",
       "    .dataframe tbody tr th:only-of-type {\n",
       "        vertical-align: middle;\n",
       "    }\n",
       "\n",
       "    .dataframe tbody tr th {\n",
       "        vertical-align: top;\n",
       "    }\n",
       "\n",
       "    .dataframe thead th {\n",
       "        text-align: right;\n",
       "    }\n",
       "</style>\n",
       "<table border=\"1\" class=\"dataframe\">\n",
       "  <thead>\n",
       "    <tr style=\"text-align: right;\">\n",
       "      <th></th>\n",
       "      <th>Churn</th>\n",
       "      <th>Tenure</th>\n",
       "      <th>PreferredLoginDevice</th>\n",
       "      <th>CityTier</th>\n",
       "      <th>WarehouseToHome</th>\n",
       "      <th>PreferredPaymentMode</th>\n",
       "      <th>Gender</th>\n",
       "      <th>HourSpendOnApp</th>\n",
       "      <th>NumberOfDeviceRegistered</th>\n",
       "      <th>PreferedOrderCat</th>\n",
       "      <th>SatisfactionScore</th>\n",
       "      <th>MaritalStatus</th>\n",
       "      <th>NumberOfAddress</th>\n",
       "      <th>Complain</th>\n",
       "      <th>OrderAmountHikeFromlastYear</th>\n",
       "      <th>CouponUsed</th>\n",
       "      <th>OrderCount</th>\n",
       "      <th>DaySinceLastOrder</th>\n",
       "      <th>CashbackAmount</th>\n",
       "    </tr>\n",
       "    <tr>\n",
       "      <th>CustomerID</th>\n",
       "      <th></th>\n",
       "      <th></th>\n",
       "      <th></th>\n",
       "      <th></th>\n",
       "      <th></th>\n",
       "      <th></th>\n",
       "      <th></th>\n",
       "      <th></th>\n",
       "      <th></th>\n",
       "      <th></th>\n",
       "      <th></th>\n",
       "      <th></th>\n",
       "      <th></th>\n",
       "      <th></th>\n",
       "      <th></th>\n",
       "      <th></th>\n",
       "      <th></th>\n",
       "      <th></th>\n",
       "      <th></th>\n",
       "    </tr>\n",
       "  </thead>\n",
       "  <tbody>\n",
       "    <tr>\n",
       "      <th>50001</th>\n",
       "      <td>1</td>\n",
       "      <td>4</td>\n",
       "      <td>Mobile Phone</td>\n",
       "      <td>3</td>\n",
       "      <td>6</td>\n",
       "      <td>Debit Card</td>\n",
       "      <td>Female</td>\n",
       "      <td>3</td>\n",
       "      <td>3</td>\n",
       "      <td>Laptop &amp; Accessory</td>\n",
       "      <td>2</td>\n",
       "      <td>Single</td>\n",
       "      <td>9</td>\n",
       "      <td>1</td>\n",
       "      <td>11</td>\n",
       "      <td>1</td>\n",
       "      <td>1</td>\n",
       "      <td>5</td>\n",
       "      <td>160</td>\n",
       "    </tr>\n",
       "    <tr>\n",
       "      <th>50002</th>\n",
       "      <td>1</td>\n",
       "      <td>10</td>\n",
       "      <td>Mobile Phone</td>\n",
       "      <td>1</td>\n",
       "      <td>8</td>\n",
       "      <td>UPI</td>\n",
       "      <td>Male</td>\n",
       "      <td>3</td>\n",
       "      <td>4</td>\n",
       "      <td>Mobile Phone</td>\n",
       "      <td>3</td>\n",
       "      <td>Single</td>\n",
       "      <td>7</td>\n",
       "      <td>1</td>\n",
       "      <td>15</td>\n",
       "      <td>0</td>\n",
       "      <td>1</td>\n",
       "      <td>0</td>\n",
       "      <td>121</td>\n",
       "    </tr>\n",
       "    <tr>\n",
       "      <th>50003</th>\n",
       "      <td>1</td>\n",
       "      <td>10</td>\n",
       "      <td>Mobile Phone</td>\n",
       "      <td>1</td>\n",
       "      <td>30</td>\n",
       "      <td>Debit Card</td>\n",
       "      <td>Male</td>\n",
       "      <td>2</td>\n",
       "      <td>4</td>\n",
       "      <td>Mobile Phone</td>\n",
       "      <td>3</td>\n",
       "      <td>Single</td>\n",
       "      <td>6</td>\n",
       "      <td>1</td>\n",
       "      <td>14</td>\n",
       "      <td>0</td>\n",
       "      <td>1</td>\n",
       "      <td>3</td>\n",
       "      <td>120</td>\n",
       "    </tr>\n",
       "    <tr>\n",
       "      <th>50004</th>\n",
       "      <td>1</td>\n",
       "      <td>0</td>\n",
       "      <td>Mobile Phone</td>\n",
       "      <td>3</td>\n",
       "      <td>15</td>\n",
       "      <td>Debit Card</td>\n",
       "      <td>Male</td>\n",
       "      <td>2</td>\n",
       "      <td>4</td>\n",
       "      <td>Laptop &amp; Accessory</td>\n",
       "      <td>5</td>\n",
       "      <td>Single</td>\n",
       "      <td>8</td>\n",
       "      <td>0</td>\n",
       "      <td>23</td>\n",
       "      <td>0</td>\n",
       "      <td>1</td>\n",
       "      <td>3</td>\n",
       "      <td>134</td>\n",
       "    </tr>\n",
       "    <tr>\n",
       "      <th>50005</th>\n",
       "      <td>1</td>\n",
       "      <td>0</td>\n",
       "      <td>Mobile Phone</td>\n",
       "      <td>1</td>\n",
       "      <td>12</td>\n",
       "      <td>Credit Card</td>\n",
       "      <td>Male</td>\n",
       "      <td>2</td>\n",
       "      <td>3</td>\n",
       "      <td>Mobile Phone</td>\n",
       "      <td>5</td>\n",
       "      <td>Single</td>\n",
       "      <td>3</td>\n",
       "      <td>0</td>\n",
       "      <td>11</td>\n",
       "      <td>1</td>\n",
       "      <td>1</td>\n",
       "      <td>3</td>\n",
       "      <td>130</td>\n",
       "    </tr>\n",
       "  </tbody>\n",
       "</table>\n",
       "</div>"
      ],
      "text/plain": [
       "            Churn  Tenure PreferredLoginDevice CityTier  WarehouseToHome  \\\n",
       "CustomerID                                                                 \n",
       "50001           1       4         Mobile Phone        3                6   \n",
       "50002           1      10         Mobile Phone        1                8   \n",
       "50003           1      10         Mobile Phone        1               30   \n",
       "50004           1       0         Mobile Phone        3               15   \n",
       "50005           1       0         Mobile Phone        1               12   \n",
       "\n",
       "           PreferredPaymentMode  Gender  HourSpendOnApp  \\\n",
       "CustomerID                                                \n",
       "50001                Debit Card  Female               3   \n",
       "50002                       UPI    Male               3   \n",
       "50003                Debit Card    Male               2   \n",
       "50004                Debit Card    Male               2   \n",
       "50005               Credit Card    Male               2   \n",
       "\n",
       "            NumberOfDeviceRegistered    PreferedOrderCat  SatisfactionScore  \\\n",
       "CustomerID                                                                    \n",
       "50001                              3  Laptop & Accessory                  2   \n",
       "50002                              4        Mobile Phone                  3   \n",
       "50003                              4        Mobile Phone                  3   \n",
       "50004                              4  Laptop & Accessory                  5   \n",
       "50005                              3        Mobile Phone                  5   \n",
       "\n",
       "           MaritalStatus  NumberOfAddress Complain  \\\n",
       "CustomerID                                           \n",
       "50001             Single                9        1   \n",
       "50002             Single                7        1   \n",
       "50003             Single                6        1   \n",
       "50004             Single                8        0   \n",
       "50005             Single                3        0   \n",
       "\n",
       "            OrderAmountHikeFromlastYear  CouponUsed  OrderCount  \\\n",
       "CustomerID                                                        \n",
       "50001                                11           1           1   \n",
       "50002                                15           0           1   \n",
       "50003                                14           0           1   \n",
       "50004                                23           0           1   \n",
       "50005                                11           1           1   \n",
       "\n",
       "            DaySinceLastOrder  CashbackAmount  \n",
       "CustomerID                                     \n",
       "50001                       5             160  \n",
       "50002                       0             121  \n",
       "50003                       3             120  \n",
       "50004                       3             134  \n",
       "50005                       3             130  "
      ]
     },
     "execution_count": 36,
     "metadata": {},
     "output_type": "execute_result"
    }
   ],
   "source": [
    "df.head()"
   ]
  },
  {
   "cell_type": "code",
   "execution_count": 37,
   "metadata": {
    "ExecuteTime": {
     "end_time": "2021-10-04T15:08:06.800683Z",
     "start_time": "2021-10-04T15:08:06.652115Z"
    }
   },
   "outputs": [
    {
     "name": "stdout",
     "output_type": "stream",
     "text": [
      "<class 'pandas.core.frame.DataFrame'>\n",
      "Int64Index: 5630 entries, 50001 to 55630\n",
      "Data columns (total 19 columns):\n",
      " #   Column                       Non-Null Count  Dtype \n",
      "---  ------                       --------------  ----- \n",
      " 0   Churn                        5630 non-null   int64 \n",
      " 1   Tenure                       5630 non-null   int64 \n",
      " 2   PreferredLoginDevice         5630 non-null   object\n",
      " 3   CityTier                     5630 non-null   object\n",
      " 4   WarehouseToHome              5630 non-null   int64 \n",
      " 5   PreferredPaymentMode         5630 non-null   object\n",
      " 6   Gender                       5630 non-null   object\n",
      " 7   HourSpendOnApp               5630 non-null   int64 \n",
      " 8   NumberOfDeviceRegistered     5630 non-null   int64 \n",
      " 9   PreferedOrderCat             5630 non-null   object\n",
      " 10  SatisfactionScore            5630 non-null   int64 \n",
      " 11  MaritalStatus                5630 non-null   object\n",
      " 12  NumberOfAddress              5630 non-null   int64 \n",
      " 13  Complain                     5630 non-null   object\n",
      " 14  OrderAmountHikeFromlastYear  5630 non-null   int64 \n",
      " 15  CouponUsed                   5630 non-null   int64 \n",
      " 16  OrderCount                   5630 non-null   int64 \n",
      " 17  DaySinceLastOrder            5630 non-null   int64 \n",
      " 18  CashbackAmount               5630 non-null   int64 \n",
      "dtypes: int64(12), object(7)\n",
      "memory usage: 879.7+ KB\n"
     ]
    }
   ],
   "source": [
    "df.info()"
   ]
  },
  {
   "cell_type": "markdown",
   "metadata": {},
   "source": [
    "# Export DataFrame to CSVclean"
   ]
  },
  {
   "cell_type": "code",
   "execution_count": 38,
   "metadata": {
    "ExecuteTime": {
     "end_time": "2021-10-04T15:08:07.700275Z",
     "start_time": "2021-10-04T15:08:06.804673Z"
    }
   },
   "outputs": [],
   "source": [
    "df.to_csv('data/ECommerceDataset_clean.csv')"
   ]
  },
  {
   "cell_type": "code",
   "execution_count": null,
   "metadata": {},
   "outputs": [],
   "source": []
  }
 ],
 "metadata": {
  "kernelspec": {
   "display_name": "Python [conda env:purwadhika_anaconda]",
   "language": "python",
   "name": "conda-env-purwadhika_anaconda-py"
  },
  "language_info": {
   "codemirror_mode": {
    "name": "ipython",
    "version": 3
   },
   "file_extension": ".py",
   "mimetype": "text/x-python",
   "name": "python",
   "nbconvert_exporter": "python",
   "pygments_lexer": "ipython3",
   "version": "3.9.4"
  }
 },
 "nbformat": 4,
 "nbformat_minor": 2
}
