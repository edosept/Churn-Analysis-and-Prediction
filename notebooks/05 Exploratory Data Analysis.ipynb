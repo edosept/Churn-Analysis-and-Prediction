{
 "cells": [
  {
   "cell_type": "code",
   "execution_count": 1,
   "metadata": {
    "ExecuteTime": {
     "end_time": "2021-10-03T09:10:36.794040Z",
     "start_time": "2021-10-03T09:10:33.809023Z"
    }
   },
   "outputs": [],
   "source": [
    "import pandas as pd\n",
    "import numpy as np\n",
    "import matplotlib.pyplot as plt\n",
    "import seaborn as sns"
   ]
  },
  {
   "cell_type": "code",
   "execution_count": 2,
   "metadata": {
    "ExecuteTime": {
     "end_time": "2021-10-03T09:10:36.915715Z",
     "start_time": "2021-10-03T09:10:36.797032Z"
    }
   },
   "outputs": [
    {
     "data": {
      "text/html": [
       "<div>\n",
       "<style scoped>\n",
       "    .dataframe tbody tr th:only-of-type {\n",
       "        vertical-align: middle;\n",
       "    }\n",
       "\n",
       "    .dataframe tbody tr th {\n",
       "        vertical-align: top;\n",
       "    }\n",
       "\n",
       "    .dataframe thead th {\n",
       "        text-align: right;\n",
       "    }\n",
       "</style>\n",
       "<table border=\"1\" class=\"dataframe\">\n",
       "  <thead>\n",
       "    <tr style=\"text-align: right;\">\n",
       "      <th></th>\n",
       "      <th>Churn</th>\n",
       "      <th>Tenure</th>\n",
       "      <th>PreferredLoginDevice</th>\n",
       "      <th>CityTier</th>\n",
       "      <th>WarehouseToHome</th>\n",
       "      <th>PreferredPaymentMode</th>\n",
       "      <th>Gender</th>\n",
       "      <th>HourSpendOnApp</th>\n",
       "      <th>NumberOfDeviceRegistered</th>\n",
       "      <th>PreferedOrderCat</th>\n",
       "      <th>SatisfactionScore</th>\n",
       "      <th>MaritalStatus</th>\n",
       "      <th>NumberOfAddress</th>\n",
       "      <th>Complain</th>\n",
       "      <th>OrderAmountHikeFromlastYear</th>\n",
       "      <th>CouponUsed</th>\n",
       "      <th>OrderCount</th>\n",
       "      <th>DaySinceLastOrder</th>\n",
       "      <th>CashbackAmount</th>\n",
       "    </tr>\n",
       "    <tr>\n",
       "      <th>CustomerID</th>\n",
       "      <th></th>\n",
       "      <th></th>\n",
       "      <th></th>\n",
       "      <th></th>\n",
       "      <th></th>\n",
       "      <th></th>\n",
       "      <th></th>\n",
       "      <th></th>\n",
       "      <th></th>\n",
       "      <th></th>\n",
       "      <th></th>\n",
       "      <th></th>\n",
       "      <th></th>\n",
       "      <th></th>\n",
       "      <th></th>\n",
       "      <th></th>\n",
       "      <th></th>\n",
       "      <th></th>\n",
       "      <th></th>\n",
       "    </tr>\n",
       "  </thead>\n",
       "  <tbody>\n",
       "    <tr>\n",
       "      <th>50001</th>\n",
       "      <td>1</td>\n",
       "      <td>4</td>\n",
       "      <td>Mobile Phone</td>\n",
       "      <td>3</td>\n",
       "      <td>6</td>\n",
       "      <td>Debit Card</td>\n",
       "      <td>Female</td>\n",
       "      <td>3</td>\n",
       "      <td>3</td>\n",
       "      <td>Laptop &amp; Accessory</td>\n",
       "      <td>2</td>\n",
       "      <td>Single</td>\n",
       "      <td>9</td>\n",
       "      <td>1</td>\n",
       "      <td>11</td>\n",
       "      <td>1</td>\n",
       "      <td>1</td>\n",
       "      <td>5</td>\n",
       "      <td>160</td>\n",
       "    </tr>\n",
       "    <tr>\n",
       "      <th>50002</th>\n",
       "      <td>1</td>\n",
       "      <td>10</td>\n",
       "      <td>Mobile Phone</td>\n",
       "      <td>1</td>\n",
       "      <td>8</td>\n",
       "      <td>UPI</td>\n",
       "      <td>Male</td>\n",
       "      <td>3</td>\n",
       "      <td>4</td>\n",
       "      <td>Mobile Phone</td>\n",
       "      <td>3</td>\n",
       "      <td>Single</td>\n",
       "      <td>7</td>\n",
       "      <td>1</td>\n",
       "      <td>15</td>\n",
       "      <td>0</td>\n",
       "      <td>1</td>\n",
       "      <td>0</td>\n",
       "      <td>121</td>\n",
       "    </tr>\n",
       "    <tr>\n",
       "      <th>50003</th>\n",
       "      <td>1</td>\n",
       "      <td>10</td>\n",
       "      <td>Mobile Phone</td>\n",
       "      <td>1</td>\n",
       "      <td>30</td>\n",
       "      <td>Debit Card</td>\n",
       "      <td>Male</td>\n",
       "      <td>2</td>\n",
       "      <td>4</td>\n",
       "      <td>Mobile Phone</td>\n",
       "      <td>3</td>\n",
       "      <td>Single</td>\n",
       "      <td>6</td>\n",
       "      <td>1</td>\n",
       "      <td>14</td>\n",
       "      <td>0</td>\n",
       "      <td>1</td>\n",
       "      <td>3</td>\n",
       "      <td>120</td>\n",
       "    </tr>\n",
       "    <tr>\n",
       "      <th>50004</th>\n",
       "      <td>1</td>\n",
       "      <td>0</td>\n",
       "      <td>Mobile Phone</td>\n",
       "      <td>3</td>\n",
       "      <td>15</td>\n",
       "      <td>Debit Card</td>\n",
       "      <td>Male</td>\n",
       "      <td>2</td>\n",
       "      <td>4</td>\n",
       "      <td>Laptop &amp; Accessory</td>\n",
       "      <td>5</td>\n",
       "      <td>Single</td>\n",
       "      <td>8</td>\n",
       "      <td>0</td>\n",
       "      <td>23</td>\n",
       "      <td>0</td>\n",
       "      <td>1</td>\n",
       "      <td>3</td>\n",
       "      <td>134</td>\n",
       "    </tr>\n",
       "    <tr>\n",
       "      <th>50005</th>\n",
       "      <td>1</td>\n",
       "      <td>0</td>\n",
       "      <td>Mobile Phone</td>\n",
       "      <td>1</td>\n",
       "      <td>12</td>\n",
       "      <td>Credit Card</td>\n",
       "      <td>Male</td>\n",
       "      <td>2</td>\n",
       "      <td>3</td>\n",
       "      <td>Mobile Phone</td>\n",
       "      <td>5</td>\n",
       "      <td>Single</td>\n",
       "      <td>3</td>\n",
       "      <td>0</td>\n",
       "      <td>11</td>\n",
       "      <td>1</td>\n",
       "      <td>1</td>\n",
       "      <td>3</td>\n",
       "      <td>130</td>\n",
       "    </tr>\n",
       "  </tbody>\n",
       "</table>\n",
       "</div>"
      ],
      "text/plain": [
       "            Churn  Tenure PreferredLoginDevice  CityTier  WarehouseToHome  \\\n",
       "CustomerID                                                                  \n",
       "50001           1       4         Mobile Phone         3                6   \n",
       "50002           1      10         Mobile Phone         1                8   \n",
       "50003           1      10         Mobile Phone         1               30   \n",
       "50004           1       0         Mobile Phone         3               15   \n",
       "50005           1       0         Mobile Phone         1               12   \n",
       "\n",
       "           PreferredPaymentMode  Gender  HourSpendOnApp  \\\n",
       "CustomerID                                                \n",
       "50001                Debit Card  Female               3   \n",
       "50002                       UPI    Male               3   \n",
       "50003                Debit Card    Male               2   \n",
       "50004                Debit Card    Male               2   \n",
       "50005               Credit Card    Male               2   \n",
       "\n",
       "            NumberOfDeviceRegistered    PreferedOrderCat  SatisfactionScore  \\\n",
       "CustomerID                                                                    \n",
       "50001                              3  Laptop & Accessory                  2   \n",
       "50002                              4        Mobile Phone                  3   \n",
       "50003                              4        Mobile Phone                  3   \n",
       "50004                              4  Laptop & Accessory                  5   \n",
       "50005                              3        Mobile Phone                  5   \n",
       "\n",
       "           MaritalStatus  NumberOfAddress  Complain  \\\n",
       "CustomerID                                            \n",
       "50001             Single                9         1   \n",
       "50002             Single                7         1   \n",
       "50003             Single                6         1   \n",
       "50004             Single                8         0   \n",
       "50005             Single                3         0   \n",
       "\n",
       "            OrderAmountHikeFromlastYear  CouponUsed  OrderCount  \\\n",
       "CustomerID                                                        \n",
       "50001                                11           1           1   \n",
       "50002                                15           0           1   \n",
       "50003                                14           0           1   \n",
       "50004                                23           0           1   \n",
       "50005                                11           1           1   \n",
       "\n",
       "            DaySinceLastOrder  CashbackAmount  \n",
       "CustomerID                                     \n",
       "50001                       5             160  \n",
       "50002                       0             121  \n",
       "50003                       3             120  \n",
       "50004                       3             134  \n",
       "50005                       3             130  "
      ]
     },
     "execution_count": 2,
     "metadata": {},
     "output_type": "execute_result"
    }
   ],
   "source": [
    "df = pd.read_csv(\"data/ECommerceDataset_clean.csv\", index_col=\"CustomerID\")\n",
    "df.head()"
   ]
  },
  {
   "cell_type": "code",
   "execution_count": 3,
   "metadata": {
    "ExecuteTime": {
     "end_time": "2021-10-03T09:10:37.100221Z",
     "start_time": "2021-10-03T09:10:36.919705Z"
    }
   },
   "outputs": [
    {
     "data": {
      "text/plain": [
       "(5630, 19)"
      ]
     },
     "execution_count": 3,
     "metadata": {},
     "output_type": "execute_result"
    }
   ],
   "source": [
    "df.shape"
   ]
  },
  {
   "cell_type": "code",
   "execution_count": 4,
   "metadata": {
    "ExecuteTime": {
     "end_time": "2021-10-03T09:10:37.214916Z",
     "start_time": "2021-10-03T09:10:37.104211Z"
    }
   },
   "outputs": [
    {
     "data": {
      "text/plain": [
       "Churn                          0\n",
       "Tenure                         0\n",
       "PreferredLoginDevice           0\n",
       "CityTier                       0\n",
       "WarehouseToHome                0\n",
       "PreferredPaymentMode           0\n",
       "Gender                         0\n",
       "HourSpendOnApp                 0\n",
       "NumberOfDeviceRegistered       0\n",
       "PreferedOrderCat               0\n",
       "SatisfactionScore              0\n",
       "MaritalStatus                  0\n",
       "NumberOfAddress                0\n",
       "Complain                       0\n",
       "OrderAmountHikeFromlastYear    0\n",
       "CouponUsed                     0\n",
       "OrderCount                     0\n",
       "DaySinceLastOrder              0\n",
       "CashbackAmount                 0\n",
       "dtype: int64"
      ]
     },
     "execution_count": 4,
     "metadata": {},
     "output_type": "execute_result"
    }
   ],
   "source": [
    "# Total number of missing values per column\n",
    "df.isnull().sum()"
   ]
  },
  {
   "cell_type": "markdown",
   "metadata": {},
   "source": [
    "# Descriptive Statistics"
   ]
  },
  {
   "cell_type": "code",
   "execution_count": 5,
   "metadata": {
    "ExecuteTime": {
     "end_time": "2021-10-03T09:10:37.355538Z",
     "start_time": "2021-10-03T09:10:37.217906Z"
    }
   },
   "outputs": [
    {
     "name": "stdout",
     "output_type": "stream",
     "text": [
      "<class 'pandas.core.frame.DataFrame'>\n",
      "Int64Index: 5630 entries, 50001 to 55630\n",
      "Data columns (total 19 columns):\n",
      " #   Column                       Non-Null Count  Dtype \n",
      "---  ------                       --------------  ----- \n",
      " 0   Churn                        5630 non-null   int64 \n",
      " 1   Tenure                       5630 non-null   int64 \n",
      " 2   PreferredLoginDevice         5630 non-null   object\n",
      " 3   CityTier                     5630 non-null   int64 \n",
      " 4   WarehouseToHome              5630 non-null   int64 \n",
      " 5   PreferredPaymentMode         5630 non-null   object\n",
      " 6   Gender                       5630 non-null   object\n",
      " 7   HourSpendOnApp               5630 non-null   int64 \n",
      " 8   NumberOfDeviceRegistered     5630 non-null   int64 \n",
      " 9   PreferedOrderCat             5630 non-null   object\n",
      " 10  SatisfactionScore            5630 non-null   int64 \n",
      " 11  MaritalStatus                5630 non-null   object\n",
      " 12  NumberOfAddress              5630 non-null   int64 \n",
      " 13  Complain                     5630 non-null   int64 \n",
      " 14  OrderAmountHikeFromlastYear  5630 non-null   int64 \n",
      " 15  CouponUsed                   5630 non-null   int64 \n",
      " 16  OrderCount                   5630 non-null   int64 \n",
      " 17  DaySinceLastOrder            5630 non-null   int64 \n",
      " 18  CashbackAmount               5630 non-null   int64 \n",
      "dtypes: int64(14), object(5)\n",
      "memory usage: 879.7+ KB\n"
     ]
    }
   ],
   "source": [
    "df.info()"
   ]
  },
  {
   "cell_type": "markdown",
   "metadata": {},
   "source": [
    "Target yang akan kita gunakan untuk eksplorasi adalah Churn"
   ]
  },
  {
   "cell_type": "code",
   "execution_count": 6,
   "metadata": {
    "ExecuteTime": {
     "end_time": "2021-10-03T09:10:37.584925Z",
     "start_time": "2021-10-03T09:10:37.358530Z"
    }
   },
   "outputs": [
    {
     "data": {
      "text/html": [
       "<div>\n",
       "<style scoped>\n",
       "    .dataframe tbody tr th:only-of-type {\n",
       "        vertical-align: middle;\n",
       "    }\n",
       "\n",
       "    .dataframe tbody tr th {\n",
       "        vertical-align: top;\n",
       "    }\n",
       "\n",
       "    .dataframe thead th {\n",
       "        text-align: right;\n",
       "    }\n",
       "</style>\n",
       "<table border=\"1\" class=\"dataframe\">\n",
       "  <thead>\n",
       "    <tr style=\"text-align: right;\">\n",
       "      <th></th>\n",
       "      <th>Churn</th>\n",
       "      <th>Tenure</th>\n",
       "      <th>CityTier</th>\n",
       "      <th>WarehouseToHome</th>\n",
       "      <th>HourSpendOnApp</th>\n",
       "      <th>NumberOfDeviceRegistered</th>\n",
       "      <th>SatisfactionScore</th>\n",
       "      <th>NumberOfAddress</th>\n",
       "      <th>Complain</th>\n",
       "      <th>OrderAmountHikeFromlastYear</th>\n",
       "      <th>CouponUsed</th>\n",
       "      <th>OrderCount</th>\n",
       "      <th>DaySinceLastOrder</th>\n",
       "      <th>CashbackAmount</th>\n",
       "    </tr>\n",
       "  </thead>\n",
       "  <tbody>\n",
       "    <tr>\n",
       "      <th>count</th>\n",
       "      <td>5630.000000</td>\n",
       "      <td>5630.000000</td>\n",
       "      <td>5630.000000</td>\n",
       "      <td>5630.000000</td>\n",
       "      <td>5630.000000</td>\n",
       "      <td>5630.000000</td>\n",
       "      <td>5630.000000</td>\n",
       "      <td>5630.000000</td>\n",
       "      <td>5630.000000</td>\n",
       "      <td>5630.000000</td>\n",
       "      <td>5630.000000</td>\n",
       "      <td>5630.000000</td>\n",
       "      <td>5630.000000</td>\n",
       "      <td>5630.000000</td>\n",
       "    </tr>\n",
       "    <tr>\n",
       "      <th>mean</th>\n",
       "      <td>0.168384</td>\n",
       "      <td>10.165009</td>\n",
       "      <td>1.654707</td>\n",
       "      <td>15.579218</td>\n",
       "      <td>2.888810</td>\n",
       "      <td>3.660213</td>\n",
       "      <td>3.066785</td>\n",
       "      <td>4.207993</td>\n",
       "      <td>0.284902</td>\n",
       "      <td>15.668739</td>\n",
       "      <td>1.384547</td>\n",
       "      <td>2.520604</td>\n",
       "      <td>4.478153</td>\n",
       "      <td>175.225577</td>\n",
       "    </tr>\n",
       "    <tr>\n",
       "      <th>std</th>\n",
       "      <td>0.374240</td>\n",
       "      <td>8.287704</td>\n",
       "      <td>0.915389</td>\n",
       "      <td>8.083045</td>\n",
       "      <td>0.730329</td>\n",
       "      <td>0.971342</td>\n",
       "      <td>1.380194</td>\n",
       "      <td>2.555111</td>\n",
       "      <td>0.451408</td>\n",
       "      <td>3.574977</td>\n",
       "      <td>0.970744</td>\n",
       "      <td>1.711109</td>\n",
       "      <td>3.408234</td>\n",
       "      <td>43.834427</td>\n",
       "    </tr>\n",
       "    <tr>\n",
       "      <th>min</th>\n",
       "      <td>0.000000</td>\n",
       "      <td>0.000000</td>\n",
       "      <td>1.000000</td>\n",
       "      <td>5.000000</td>\n",
       "      <td>0.000000</td>\n",
       "      <td>1.000000</td>\n",
       "      <td>1.000000</td>\n",
       "      <td>1.000000</td>\n",
       "      <td>0.000000</td>\n",
       "      <td>11.000000</td>\n",
       "      <td>0.000000</td>\n",
       "      <td>1.000000</td>\n",
       "      <td>0.000000</td>\n",
       "      <td>71.000000</td>\n",
       "    </tr>\n",
       "    <tr>\n",
       "      <th>25%</th>\n",
       "      <td>0.000000</td>\n",
       "      <td>3.000000</td>\n",
       "      <td>1.000000</td>\n",
       "      <td>9.000000</td>\n",
       "      <td>2.000000</td>\n",
       "      <td>3.000000</td>\n",
       "      <td>2.000000</td>\n",
       "      <td>2.000000</td>\n",
       "      <td>0.000000</td>\n",
       "      <td>13.000000</td>\n",
       "      <td>1.000000</td>\n",
       "      <td>1.000000</td>\n",
       "      <td>2.000000</td>\n",
       "      <td>146.000000</td>\n",
       "    </tr>\n",
       "    <tr>\n",
       "      <th>50%</th>\n",
       "      <td>0.000000</td>\n",
       "      <td>9.000000</td>\n",
       "      <td>1.000000</td>\n",
       "      <td>14.000000</td>\n",
       "      <td>3.000000</td>\n",
       "      <td>4.000000</td>\n",
       "      <td>3.000000</td>\n",
       "      <td>3.000000</td>\n",
       "      <td>0.000000</td>\n",
       "      <td>15.000000</td>\n",
       "      <td>1.000000</td>\n",
       "      <td>2.000000</td>\n",
       "      <td>4.000000</td>\n",
       "      <td>163.000000</td>\n",
       "    </tr>\n",
       "    <tr>\n",
       "      <th>75%</th>\n",
       "      <td>0.000000</td>\n",
       "      <td>15.000000</td>\n",
       "      <td>3.000000</td>\n",
       "      <td>20.000000</td>\n",
       "      <td>3.000000</td>\n",
       "      <td>4.000000</td>\n",
       "      <td>4.000000</td>\n",
       "      <td>6.000000</td>\n",
       "      <td>1.000000</td>\n",
       "      <td>18.000000</td>\n",
       "      <td>2.000000</td>\n",
       "      <td>3.000000</td>\n",
       "      <td>7.000000</td>\n",
       "      <td>196.000000</td>\n",
       "    </tr>\n",
       "    <tr>\n",
       "      <th>max</th>\n",
       "      <td>1.000000</td>\n",
       "      <td>33.000000</td>\n",
       "      <td>3.000000</td>\n",
       "      <td>36.000000</td>\n",
       "      <td>4.000000</td>\n",
       "      <td>5.000000</td>\n",
       "      <td>5.000000</td>\n",
       "      <td>12.000000</td>\n",
       "      <td>1.000000</td>\n",
       "      <td>25.000000</td>\n",
       "      <td>3.000000</td>\n",
       "      <td>6.000000</td>\n",
       "      <td>14.000000</td>\n",
       "      <td>271.000000</td>\n",
       "    </tr>\n",
       "  </tbody>\n",
       "</table>\n",
       "</div>"
      ],
      "text/plain": [
       "             Churn       Tenure     CityTier  WarehouseToHome  HourSpendOnApp  \\\n",
       "count  5630.000000  5630.000000  5630.000000      5630.000000     5630.000000   \n",
       "mean      0.168384    10.165009     1.654707        15.579218        2.888810   \n",
       "std       0.374240     8.287704     0.915389         8.083045        0.730329   \n",
       "min       0.000000     0.000000     1.000000         5.000000        0.000000   \n",
       "25%       0.000000     3.000000     1.000000         9.000000        2.000000   \n",
       "50%       0.000000     9.000000     1.000000        14.000000        3.000000   \n",
       "75%       0.000000    15.000000     3.000000        20.000000        3.000000   \n",
       "max       1.000000    33.000000     3.000000        36.000000        4.000000   \n",
       "\n",
       "       NumberOfDeviceRegistered  SatisfactionScore  NumberOfAddress  \\\n",
       "count               5630.000000        5630.000000      5630.000000   \n",
       "mean                   3.660213           3.066785         4.207993   \n",
       "std                    0.971342           1.380194         2.555111   \n",
       "min                    1.000000           1.000000         1.000000   \n",
       "25%                    3.000000           2.000000         2.000000   \n",
       "50%                    4.000000           3.000000         3.000000   \n",
       "75%                    4.000000           4.000000         6.000000   \n",
       "max                    5.000000           5.000000        12.000000   \n",
       "\n",
       "          Complain  OrderAmountHikeFromlastYear   CouponUsed   OrderCount  \\\n",
       "count  5630.000000                  5630.000000  5630.000000  5630.000000   \n",
       "mean      0.284902                    15.668739     1.384547     2.520604   \n",
       "std       0.451408                     3.574977     0.970744     1.711109   \n",
       "min       0.000000                    11.000000     0.000000     1.000000   \n",
       "25%       0.000000                    13.000000     1.000000     1.000000   \n",
       "50%       0.000000                    15.000000     1.000000     2.000000   \n",
       "75%       1.000000                    18.000000     2.000000     3.000000   \n",
       "max       1.000000                    25.000000     3.000000     6.000000   \n",
       "\n",
       "       DaySinceLastOrder  CashbackAmount  \n",
       "count        5630.000000     5630.000000  \n",
       "mean            4.478153      175.225577  \n",
       "std             3.408234       43.834427  \n",
       "min             0.000000       71.000000  \n",
       "25%             2.000000      146.000000  \n",
       "50%             4.000000      163.000000  \n",
       "75%             7.000000      196.000000  \n",
       "max            14.000000      271.000000  "
      ]
     },
     "execution_count": 6,
     "metadata": {},
     "output_type": "execute_result"
    }
   ],
   "source": [
    "df.describe()"
   ]
  },
  {
   "cell_type": "markdown",
   "metadata": {},
   "source": [
    "# Data Distribution"
   ]
  },
  {
   "cell_type": "markdown",
   "metadata": {},
   "source": [
    "# Data Correlation"
   ]
  },
  {
   "cell_type": "markdown",
   "metadata": {},
   "source": [
    "# Data Cardinality\n",
    "ukuran keunikan data pada kolom tertentu"
   ]
  },
  {
   "cell_type": "markdown",
   "metadata": {},
   "source": [
    "### Cek Target"
   ]
  },
  {
   "cell_type": "code",
   "execution_count": 7,
   "metadata": {
    "ExecuteTime": {
     "end_time": "2021-10-03T09:10:37.597891Z",
     "start_time": "2021-10-03T09:10:37.587918Z"
    }
   },
   "outputs": [
    {
     "data": {
      "text/plain": [
       "array([1, 0], dtype=int64)"
      ]
     },
     "execution_count": 7,
     "metadata": {},
     "output_type": "execute_result"
    }
   ],
   "source": [
    "df[\"Churn\"].unique()"
   ]
  },
  {
   "cell_type": "code",
   "execution_count": 8,
   "metadata": {
    "ExecuteTime": {
     "end_time": "2021-10-03T09:10:37.768434Z",
     "start_time": "2021-10-03T09:10:37.602877Z"
    }
   },
   "outputs": [
    {
     "data": {
      "text/plain": [
       "0    0.831616\n",
       "1    0.168384\n",
       "Name: Churn, dtype: float64"
      ]
     },
     "execution_count": 8,
     "metadata": {},
     "output_type": "execute_result"
    }
   ],
   "source": [
    "df[\"Churn\"].value_counts() / len(df)"
   ]
  },
  {
   "cell_type": "markdown",
   "metadata": {},
   "source": [
    "hmm, imbalance banget ini datanya"
   ]
  },
  {
   "cell_type": "code",
   "execution_count": 9,
   "metadata": {
    "ExecuteTime": {
     "end_time": "2021-10-03T09:10:38.092567Z",
     "start_time": "2021-10-03T09:10:37.781412Z"
    }
   },
   "outputs": [
    {
     "data": {
      "text/html": [
       "<div>\n",
       "<style scoped>\n",
       "    .dataframe tbody tr th:only-of-type {\n",
       "        vertical-align: middle;\n",
       "    }\n",
       "\n",
       "    .dataframe tbody tr th {\n",
       "        vertical-align: top;\n",
       "    }\n",
       "\n",
       "    .dataframe thead th {\n",
       "        text-align: right;\n",
       "    }\n",
       "</style>\n",
       "<table border=\"1\" class=\"dataframe\">\n",
       "  <thead>\n",
       "    <tr style=\"text-align: right;\">\n",
       "      <th></th>\n",
       "      <th>Tenure</th>\n",
       "      <th>CityTier</th>\n",
       "      <th>WarehouseToHome</th>\n",
       "      <th>HourSpendOnApp</th>\n",
       "      <th>NumberOfDeviceRegistered</th>\n",
       "      <th>SatisfactionScore</th>\n",
       "      <th>NumberOfAddress</th>\n",
       "      <th>Complain</th>\n",
       "      <th>OrderAmountHikeFromlastYear</th>\n",
       "      <th>CouponUsed</th>\n",
       "      <th>OrderCount</th>\n",
       "      <th>DaySinceLastOrder</th>\n",
       "      <th>CashbackAmount</th>\n",
       "    </tr>\n",
       "    <tr>\n",
       "      <th>Churn</th>\n",
       "      <th></th>\n",
       "      <th></th>\n",
       "      <th></th>\n",
       "      <th></th>\n",
       "      <th></th>\n",
       "      <th></th>\n",
       "      <th></th>\n",
       "      <th></th>\n",
       "      <th></th>\n",
       "      <th></th>\n",
       "      <th></th>\n",
       "      <th></th>\n",
       "      <th></th>\n",
       "    </tr>\n",
       "  </thead>\n",
       "  <tbody>\n",
       "    <tr>\n",
       "      <th>0</th>\n",
       "      <td>11.424391</td>\n",
       "      <td>1.619821</td>\n",
       "      <td>15.302648</td>\n",
       "      <td>2.885946</td>\n",
       "      <td>3.616617</td>\n",
       "      <td>3.001282</td>\n",
       "      <td>4.158906</td>\n",
       "      <td>0.234088</td>\n",
       "      <td>15.679411</td>\n",
       "      <td>1.388936</td>\n",
       "      <td>2.543571</td>\n",
       "      <td>4.728535</td>\n",
       "      <td>178.387014</td>\n",
       "    </tr>\n",
       "    <tr>\n",
       "      <th>1</th>\n",
       "      <td>3.945148</td>\n",
       "      <td>1.827004</td>\n",
       "      <td>16.945148</td>\n",
       "      <td>2.902954</td>\n",
       "      <td>3.875527</td>\n",
       "      <td>3.390295</td>\n",
       "      <td>4.450422</td>\n",
       "      <td>0.535865</td>\n",
       "      <td>15.616034</td>\n",
       "      <td>1.362869</td>\n",
       "      <td>2.407173</td>\n",
       "      <td>3.241561</td>\n",
       "      <td>159.611814</td>\n",
       "    </tr>\n",
       "  </tbody>\n",
       "</table>\n",
       "</div>"
      ],
      "text/plain": [
       "          Tenure  CityTier  WarehouseToHome  HourSpendOnApp  \\\n",
       "Churn                                                         \n",
       "0      11.424391  1.619821        15.302648        2.885946   \n",
       "1       3.945148  1.827004        16.945148        2.902954   \n",
       "\n",
       "       NumberOfDeviceRegistered  SatisfactionScore  NumberOfAddress  Complain  \\\n",
       "Churn                                                                           \n",
       "0                      3.616617           3.001282         4.158906  0.234088   \n",
       "1                      3.875527           3.390295         4.450422  0.535865   \n",
       "\n",
       "       OrderAmountHikeFromlastYear  CouponUsed  OrderCount  DaySinceLastOrder  \\\n",
       "Churn                                                                           \n",
       "0                        15.679411    1.388936    2.543571           4.728535   \n",
       "1                        15.616034    1.362869    2.407173           3.241561   \n",
       "\n",
       "       CashbackAmount  \n",
       "Churn                  \n",
       "0          178.387014  \n",
       "1          159.611814  "
      ]
     },
     "execution_count": 9,
     "metadata": {},
     "output_type": "execute_result"
    }
   ],
   "source": [
    "df.groupby(\"Churn\").mean()"
   ]
  },
  {
   "cell_type": "code",
   "execution_count": null,
   "metadata": {},
   "outputs": [],
   "source": []
  }
 ],
 "metadata": {
  "kernelspec": {
   "display_name": "Python [conda env:purwadhika_anaconda]",
   "language": "python",
   "name": "conda-env-purwadhika_anaconda-py"
  },
  "language_info": {
   "codemirror_mode": {
    "name": "ipython",
    "version": 3
   },
   "file_extension": ".py",
   "mimetype": "text/x-python",
   "name": "python",
   "nbconvert_exporter": "python",
   "pygments_lexer": "ipython3",
   "version": "3.9.4"
  }
 },
 "nbformat": 4,
 "nbformat_minor": 2
}
